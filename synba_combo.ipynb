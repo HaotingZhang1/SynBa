{
 "nbformat": 4,
 "nbformat_minor": 0,
 "metadata": {
  "colab": {
   "provenance": []
  },
  "kernelspec": {
   "name": "python2",
   "language": "python",
   "display_name": "Python 2"
  },
  "language_info": {
   "name": "python"
  }
 },
 "cells": [
  {
   "cell_type": "markdown",
   "source": [
    "### Install and import the required packages"
   ],
   "metadata": {
    "id": "j6XsP0-r2rwY"
   }
  },
  {
   "cell_type": "code",
   "source": [
    "import numpy as np\n",
    "import seaborn as sns\n",
    "import matplotlib.pyplot as plt\n",
    "import pandas as pd\n",
    "import time"
   ],
   "metadata": {
    "id": "6ituoB7QhCsR"
   },
   "execution_count": 1,
   "outputs": []
  },
  {
   "cell_type": "code",
   "source": [
    "# Installing pystan (may take around 8 minutes if the package is not in the environment yet)\n",
    "t = time.time()\n",
    "!pip install pystan==2.19.0.0\n",
    "print('Time elapsed: {} seconds'.format(time.time() - t))"
   ],
   "metadata": {
    "colab": {
     "base_uri": "https://localhost:8080/"
    },
    "id": "qIHgFagN08Qw",
    "outputId": "dc24ac0c-e7b1-45b7-91bb-88fa4c2302b0"
   },
   "execution_count": 2,
   "outputs": [
    {
     "name": "stdout",
     "output_type": "stream",
     "text": [
      "Requirement already satisfied: pystan==2.19.0.0 in /Users/haoting/opt/anaconda3/envs/DrugComb_Bayes/lib/python3.7/site-packages (2.19.0.0)\r\n",
      "Requirement already satisfied: Cython!=0.25.1,>=0.22 in /Users/haoting/opt/anaconda3/envs/DrugComb_Bayes/lib/python3.7/site-packages (from pystan==2.19.0.0) (0.29.30)\r\n",
      "Requirement already satisfied: numpy>=1.7 in /Users/haoting/opt/anaconda3/envs/DrugComb_Bayes/lib/python3.7/site-packages (from pystan==2.19.0.0) (1.21.5)\r\n",
      "Time elapsed: 1.1754467487335205 seconds\n"
     ]
    }
   ]
  },
  {
   "cell_type": "code",
   "source": [
    "import pystan"
   ],
   "metadata": {
    "id": "Mt0Vm5NCazKT"
   },
   "execution_count": 3,
   "outputs": []
  },
  {
   "cell_type": "markdown",
   "source": [
    "### Input your data of interest"
   ],
   "metadata": {
    "id": "DLag9Mrb1sGq"
   }
  },
  {
   "cell_type": "code",
   "source": [
    "# For example:\n",
    "dose_mat = np.array([[100., 97.8, 99.7, 94.7, 95., 92.9],\n",
    "                     [96.5, 89.8, 97.7, 92.4, 88.4, 87.4],\n",
    "                     [97.6, 88.8, 94.4, 90.1, 86.9, 88.7],\n",
    "                     [95.6, 84.2, 86.3, 87.9, 84.9, 80.2],\n",
    "                     [88.8, 80.2, 84.1, 81.9, 77.8, 76.5],\n",
    "                     [79.4, 64.4, 69.4, 69.7, 67., 69.4]])\n",
    "agent1_mono_dose = np.array([0., 1e-2, 3e-2, 0.1, 0.3, 1.])\n",
    "agent2_mono_dose = np.array([0., 7.5e-1, 2.5, 7.5, 25., 75.])\n",
    "plt.figure()\n",
    "sns.heatmap(dose_mat, annot=True, xticklabels=False, yticklabels=False, fmt='g')\n",
    "plt.show()\n",
    "X1 = np.repeat(agent1_mono_dose, 6)\n",
    "X2 = np.tile(agent2_mono_dose, 6)\n",
    "Y = np.reshape(dose_mat, (36))\n",
    "print('dosage 1: ', X1)\n",
    "print('dosage 2: ', X2)\n",
    "print('response: ', Y)"
   ],
   "metadata": {
    "colab": {
     "base_uri": "https://localhost:8080/",
     "height": 569
    },
    "id": "UXbQfJ741wBb",
    "outputId": "614a51b6-b2f7-4631-b9be-6984cf1316c1"
   },
   "execution_count": 4,
   "outputs": [
    {
     "data": {
      "text/plain": "<Figure size 432x288 with 2 Axes>",
      "image/png": "[encoded data removed]"
     },
     "metadata": {
      "needs_background": "light"
     },
     "output_type": "display_data"
    },
    {
     "name": "stdout",
     "output_type": "stream",
     "text": [
      "dosage 1:  [0.   0.   0.   0.   0.   0.   0.01 0.01 0.01 0.01 0.01 0.01 0.03 0.03\n",
      " 0.03 0.03 0.03 0.03 0.1  0.1  0.1  0.1  0.1  0.1  0.3  0.3  0.3  0.3\n",
      " 0.3  0.3  1.   1.   1.   1.   1.   1.  ]\n",
      "dosage 2:  [ 0.    0.75  2.5   7.5  25.   75.    0.    0.75  2.5   7.5  25.   75.\n",
      "  0.    0.75  2.5   7.5  25.   75.    0.    0.75  2.5   7.5  25.   75.\n",
      "  0.    0.75  2.5   7.5  25.   75.    0.    0.75  2.5   7.5  25.   75.  ]\n",
      "response:  [100.   97.8  99.7  94.7  95.   92.9  96.5  89.8  97.7  92.4  88.4  87.4\n",
      "  97.6  88.8  94.4  90.1  86.9  88.7  95.6  84.2  86.3  87.9  84.9  80.2\n",
      "  88.8  80.2  84.1  81.9  77.8  76.5  79.4  64.4  69.4  69.7  67.   69.4]\n"
     ]
    }
   ]
  },
  {
   "cell_type": "code",
   "source": [
    "# Alternatively, upload dataset in the form of a .csv file, where the first \n",
    "# column is named \"dosage_1\", the second column is named \"dosage_2\", and the \n",
    "# third column is named \"response\".\n",
    "df = pd.read_csv(\"your_dose_response_data.csv\")\n",
    "X1 = df[\"dosage_1\"]\n",
    "X2 = df[\"dosage_2\"]\n",
    "Y = df[\"response\"]"
   ],
   "metadata": {
    "id": "8d3Ae59j1vPg"
   },
   "execution_count": null,
   "outputs": []
  },
  {
   "cell_type": "markdown",
   "source": [
    "### Define the model according to Box 2 in the paper\n",
    "\n",
    "#### Notes:\n",
    " - The prior for $E_0$ is defined to be Gaussian with mean $100$ and a standard deviation of $3$ (i.e. $B=100$ where $B$ is defined in the paper). But this may need to be changed according to the range of the responses in the dataset. For example, if the response range\n",
    " is between $0$ and $1$, then the prior for $E_0$ below shall be changed from `e0 ~ normal(100, 3)` to `e0 ~ normal(1, 0.03)`.\n",
    " To do this, define `e0_mean = 1` in the cell below.\n",
    " - The Beta prior for the normalised $\\text{E}_{\\text{inf}}$ is defined according to Option 2 in the paper. To opt for Option 1, define `einf_beta_a = 1` and `einf_beta_b = 1` in the cell below so that we have `einf ~ beta(1, 1)` which is equivalent to `einf ~ uniform(0, 1)`.\n",
    " - The bounds for the prior of $\\log C$ are defined according to the dosage range of the AstraZeneca-Sanger DREAM challenge. Please refer to the paper for information on how to adjust the bounds (`ic50_lb` and `ic50_ub` in the cell below) if necessary.\n",
    " - The prior for $\\sigma$ (the standard deviation of the i.i.d. noise) is defined to be lognormal(0, 1), where $\\mu=0$ controls the median of the prior. It can be tuned depending on the range of $Y$ and the noise level expected by the user.\n",
    " For example, when the range of $Y$ is between $0$ and $100$, then a lognormal(0, 1) gives a median of 1.\n",
    " But when the range of $Y$ is between $0$ and $1$, then a smaller $\\mu$ (e.g. somewhere between -5 and -4) may be more suitable.\n",
    " This could be determined by empirically estimating the noise level from an external dataset.\n",
    " To tune this, change the value of `sigma_mu` in the cell below."
   ],
   "metadata": {
    "id": "yNWVQruq1LiL"
   }
  },
  {
   "cell_type": "code",
   "execution_count": 5,
   "outputs": [],
   "source": [
    "# Define the parameters for the prior distributions\n",
    "e0_mean = 100\n",
    "einf_beta_a = 0.46\n",
    "einf_beta_b = 0.58\n",
    "ic50_lb = 1e-10\n",
    "ic50_ub = 1e6\n",
    "sigma_mu = 0"
   ],
   "metadata": {
    "collapsed": false,
    "pycharm": {
     "name": "#%%\n"
    }
   }
  },
  {
   "cell_type": "code",
   "source": [
    "model = \"\"\"\n",
    "data {\n",
    "  int<lower=0> N;\n",
    "  int<lower=0> N_test;\n",
    "  vector[N] X1;\n",
    "  vector[N] X2;\n",
    "  vector[N] Y;\n",
    "  vector[N_test] X1_test;\n",
    "  vector[N_test] X2_test;\n",
    "  real<lower=0> e0_mean;\n",
    "  real<lower=0> einf_beta_a;\n",
    "  real<lower=0> einf_beta_b;\n",
    "  real<lower=0> ic50_lb;\n",
    "  real<lower=0> ic50_ub;\n",
    "  real sigma_mu;\n",
    "}\n",
    "parameters {\n",
    "  real<lower=0> e_0;\n",
    "  real<lower=0, upper=1> e_1;\n",
    "  real<lower=0, upper=1> e_2;\n",
    "  real<lower=0, upper=1> e_3;\n",
    "  real<lower=log(ic50_lb), upper=log(ic50_ub)> logC_1;\n",
    "  real<lower=log(ic50_lb), upper=log(ic50_ub)> logC_2;\n",
    "  real<lower=0> h_1;\n",
    "  real<lower=0> h_2;\n",
    "  real<lower=0> alpha;\n",
    "  real<lower=0> sigma;\n",
    "}\n",
    "model {\n",
    "    e_0 ~ normal(e0_mean, 0.03*e0_mean);\n",
    "    e_1 ~ beta(einf_beta_a, einf_beta_b);\n",
    "    e_2 ~ beta(einf_beta_a, einf_beta_b);\n",
    "    e_3 ~ beta(einf_beta_a, einf_beta_b);\n",
    "    h_1 ~ lognormal(0, 1);\n",
    "    h_2 ~ lognormal(0, 1);\n",
    "    alpha ~ lognormal(0, 1);\n",
    "    sigma ~ lognormal(sigma_mu, 1);\n",
    "    for(i in 1:N){\n",
    "        Y[i] ~ normal(((exp(logC_1))^h_1 * (exp(logC_2))^h_2 * e_0 + X1[i]^h_1 * (exp(logC_2))^h_2 * e_1 * e_0 + X2[i]^h_2 * (exp(logC_1))^h_1 * e_2 * e_0 + alpha * X1[i]^h_1 * X2[i]^h_2 * e_3 * e_0) / ((exp(logC_1))^h_1 * (exp(logC_2))^h_2 + X1[i]^h_1 * (exp(logC_2))^h_2 + X2[i]^h_2 * (exp(logC_1))^h_1 + alpha * X1[i]^h_1 * X2[i]^h_2), sigma);\n",
    "    }\n",
    "}\n",
    "generated quantities {\n",
    "    vector[N_test] Y_synthetic;\n",
    "    for(i in 1:N_test){\n",
    "        Y_synthetic[i] = normal_rng(((exp(logC_1))^h_1 * (exp(logC_2))^h_2 * e_0 + X1_test[i]^h_1 * (exp(logC_2))^h_2 * e_1 * e_0 + X2_test[i]^h_2 * (exp(logC_1))^h_1 * e_2 * e_0 + alpha * X1_test[i]^h_1 * X2_test[i]^h_2 * e_3 * e_0) / ((exp(logC_1))^h_1 * (exp(logC_2))^h_2 + X1_test[i]^h_1 * (exp(logC_2))^h_2 + X2_test[i]^h_2 * (exp(logC_1))^h_1 + alpha * X1_test[i]^h_1 * X2_test[i]^h_2), sigma);\n",
    "    }\n",
    "}\n",
    "\"\"\""
   ],
   "metadata": {
    "id": "vgbQkOHK2MWB"
   },
   "execution_count": 6,
   "outputs": []
  },
  {
   "cell_type": "code",
   "source": [
    "def synba_train(sm, X1, X2, Y, X1_test=None, X2_test=None, Y_test=None, iter=1000, e0_mean=100,\n",
    "                einf_beta_a=0.46, einf_beta_b=0.58, ic50_lb=1e-10, ic50_ub=1e6,\n",
    "                sigma_mu=0, chains=4, warmup=500, adapt_delta=0.9):\n",
    "  N = len(Y)\n",
    "  zero_ind_1 = np.where(X1 == 0)[0]\n",
    "  zero_ind_2 = np.where(X2 == 0)[0]\n",
    "  X1[zero_ind_1] = np.minimum(1e-8, 0.001 * np.min(X1[np.where(X1>0)[0]]))\n",
    "  X2[zero_ind_2] = np.minimum(1e-8, 0.001 * np.min(X2[np.where(X2>0)[0]]))\n",
    "  if X1_test is None:\n",
    "    N_test, X1_test, X2_test = N, X1, X2\n",
    "  data = {'N': N, 'X1': X1, 'X2': X2, 'Y': Y, \n",
    "          'N_test': N_test, 'X1_test': X1_test, 'X2_test': X2_test,\n",
    "          'e0_mean': e0_mean, 'einf_beta_a': einf_beta_a, 'einf_beta_b': einf_beta_b,\n",
    "          'ic50_lb': ic50_lb, 'ic50_ub': ic50_ub, 'sigma_mu': sigma_mu}\n",
    "  fit = sm.sampling(data=data, iter=iter, chains=chains, warmup=warmup, thin=1, \n",
    "                    seed=101, control=dict(adapt_delta=adapt_delta))\n",
    "  return fit"
   ],
   "metadata": {
    "id": "RxDVx4irsOJX"
   },
   "execution_count": 7,
   "outputs": []
  },
  {
   "cell_type": "markdown",
   "source": [
    "### Compile and train the model"
   ],
   "metadata": {
    "id": "HduEIV3z1SbF"
   }
  },
  {
   "cell_type": "code",
   "execution_count": null,
   "outputs": [],
   "source": [
    "# Compile the model (may take around 1-2 minutes)\n",
    "# Note: This cell only needs to be run once! As long as the definition for the\n",
    "# model above is unchanged, this cell does not need to be repeated, even for\n",
    "# different datasets.\n",
    "t = time.time()\n",
    "sm = pystan.StanModel(model_code=model)\n",
    "print('Time taken to compile the model: {} seconds'.format(time.time() - t))"
   ],
   "metadata": {
    "collapsed": false,
    "pycharm": {
     "name": "#%%\n"
    }
   }
  },
  {
   "cell_type": "code",
   "source": [
    "# Fit the model and generate samples\n",
    "t = time.time()\n",
    "fit = synba_train(sm, X1, X2, Y, e0_mean=e0_mean,\n",
    "                einf_beta_a=einf_beta_a, einf_beta_b=einf_beta_b,\n",
    "                ic50_lb=ic50_lb, ic50_ub=ic50_ub,\n",
    "                sigma_mu=sigma_mu)\n",
    "print('Time taken to fit the model: {} seconds'.format(time.time() - t))"
   ],
   "metadata": {
    "colab": {
     "base_uri": "https://localhost:8080/"
    },
    "id": "lHJne9qV16Kg",
    "outputId": "c23e0f2e-1306-4f63-edc5-b9d24650fa8b"
   },
   "execution_count": 9,
   "outputs": [
    {
     "name": "stdout",
     "output_type": "stream",
     "text": [
      "\n",
      "\n",
      "\n",
      "Gradient evaluation took 0.000119 seconds\n",
      "Gradient evaluation took 0.000119 seconds\n",
      "1000 transitions using 10 leapfrog steps per transition would take 1.19 seconds.\n",
      "1000 transitions using 10 leapfrog steps per transition would take 1.19 seconds.\n",
      "Adjust your expectations accordingly!\n",
      "Adjust your expectations accordingly!\n",
      "\n",
      "\n",
      "\n",
      "\n",
      "Gradient evaluation took 0.000113 seconds\n",
      "1000 transitions using 10 leapfrog steps per transition would take 1.13 seconds.\n",
      "Adjust your expectations accordingly!\n",
      "\n",
      "\n",
      "\n",
      "Gradient evaluation took 0.000112 seconds\n",
      "1000 transitions using 10 leapfrog steps per transition would take 1.12 seconds.\n",
      "Adjust your expectations accordingly!\n",
      "\n",
      "\n",
      "Iteration:   1 / 1000 [  0%]  (Warmup)\n",
      "Iteration:   1 / 1000 [  0%]  (Warmup)\n",
      "Iteration:   1 / 1000 [  0%]  (Warmup)\n",
      "Iteration:   1 / 1000 [  0%]  (Warmup)\n",
      "Iteration: 100 / 1000 [ 10%]  (Warmup)\n",
      "Iteration: 100 / 1000 [ 10%]  (Warmup)\n",
      "Iteration: 100 / 1000 [ 10%]  (Warmup)\n",
      "Iteration: 100 / 1000 [ 10%]  (Warmup)\n",
      "Iteration: 200 / 1000 [ 20%]  (Warmup)\n",
      "Iteration: 200 / 1000 [ 20%]  (Warmup)\n",
      "Iteration: 200 / 1000 [ 20%]  (Warmup)\n",
      "Iteration: 200 / 1000 [ 20%]  (Warmup)\n",
      "Iteration: 300 / 1000 [ 30%]  (Warmup)\n",
      "Iteration: 300 / 1000 [ 30%]  (Warmup)\n",
      "Iteration: 300 / 1000 [ 30%]  (Warmup)\n",
      "Iteration: 400 / 1000 [ 40%]  (Warmup)\n",
      "Iteration: 300 / 1000 [ 30%]  (Warmup)\n",
      "Iteration: 400 / 1000 [ 40%]  (Warmup)\n",
      "Iteration: 400 / 1000 [ 40%]  (Warmup)\n",
      "Iteration: 500 / 1000 [ 50%]  (Warmup)\n",
      "Iteration: 501 / 1000 [ 50%]  (Sampling)\n",
      "Iteration: 400 / 1000 [ 40%]  (Warmup)\n",
      "Iteration: 500 / 1000 [ 50%]  (Warmup)\n",
      "Iteration: 501 / 1000 [ 50%]  (Sampling)\n",
      "Iteration: 500 / 1000 [ 50%]  (Warmup)\n",
      "Iteration: 501 / 1000 [ 50%]  (Sampling)\n",
      "Iteration: 600 / 1000 [ 60%]  (Sampling)\n",
      "Iteration: 500 / 1000 [ 50%]  (Warmup)\n",
      "Iteration: 501 / 1000 [ 50%]  (Sampling)\n",
      "Iteration: 600 / 1000 [ 60%]  (Sampling)\n",
      "Iteration: 700 / 1000 [ 70%]  (Sampling)\n",
      "Iteration: 600 / 1000 [ 60%]  (Sampling)\n",
      "Iteration: 600 / 1000 [ 60%]  (Sampling)\n",
      "Iteration: 800 / 1000 [ 80%]  (Sampling)\n",
      "Iteration: 700 / 1000 [ 70%]  (Sampling)\n",
      "Iteration: 700 / 1000 [ 70%]  (Sampling)\n",
      "Iteration: 700 / 1000 [ 70%]  (Sampling)\n",
      "Iteration: 900 / 1000 [ 90%]  (Sampling)\n",
      "Iteration: 800 / 1000 [ 80%]  (Sampling)\n",
      "Iteration: 800 / 1000 [ 80%]  (Sampling)\n",
      "Iteration: 1000 / 1000 [100%]  (Sampling)\n",
      "\n",
      " Elapsed Time: 4.92829 seconds (Warm-up)\n",
      "               2.8693 seconds (Sampling)\n",
      "               7.79759 seconds (Total)\n",
      "\n",
      "Iteration: 800 / 1000 [ 80%]  (Sampling)\n",
      "Iteration: 900 / 1000 [ 90%]  (Sampling)\n",
      "Iteration: 900 / 1000 [ 90%]  (Sampling)\n",
      "Iteration: 900 / 1000 [ 90%]  (Sampling)\n",
      "Iteration: 1000 / 1000 [100%]  (Sampling)\n",
      "\n",
      " Elapsed Time: 5.39766 seconds (Warm-up)\n",
      "               3.24956 seconds (Sampling)\n",
      "               8.64723 seconds (Total)\n",
      "\n",
      "Iteration: 1000 / 1000 [100%]  (Sampling)\n",
      "\n",
      " Elapsed Time: 5.4519 seconds (Warm-up)\n",
      "               3.23089 seconds (Sampling)\n",
      "               8.6828 seconds (Total)\n",
      "\n",
      "Iteration: 1000 / 1000 [100%]  (Sampling)\n",
      "\n",
      " Elapsed Time: 5.72511 seconds (Warm-up)\n",
      "               3.45684 seconds (Sampling)\n",
      "               9.18195 seconds (Total)\n",
      "\n",
      "Time taken to fit the model: 9.43248724937439 seconds\n"
     ]
    },
    {
     "name": "stderr",
     "output_type": "stream",
     "text": [
      "Informational Message: The current Metropolis proposal is about to be rejected because of the following issue:\n",
      "Exception: normal_lpdf: Location parameter is inf, but must be finite!  (in 'unknown file name' at line 39)\n",
      "\n",
      "If this warning occurs sporadically, such as for highly constrained variable types like covariance matrices, then the sampler is fine,\n",
      "Informational Message: The current Metropolis proposal is about to be rejected because of the following issue:but if this warning occurs often then your model may be either severely ill-conditioned or misspecified.\n",
      "\n",
      "\n",
      "Exception: normal_lpdf: Location parameter is inf, but must be finite!  (in 'unknown file name' at line 39)\n",
      "\n",
      "If this warning occurs sporadically, such as for highly constrained variable types like covariance matrices, then the sampler is fine,\n",
      "but if this warning occurs often then your model may be either severely ill-conditioned or misspecified.\n",
      "\n",
      "Informational Message: The current Metropolis proposal is about to be rejected because of the following issue:\n",
      "Exception: normal_lpdf: Location parameter is nan, but must be finite!  (in 'unknown file name' at line 39)\n",
      "\n",
      "If this warning occurs sporadically, such as for highly constrained variable types like covariance matrices, then the sampler is fine,\n",
      "but if this warning occurs often then your model may be either severely ill-conditioned or misspecified.\n",
      "\n"
     ]
    }
   ]
  },
  {
   "cell_type": "markdown",
   "source": [
    "### Output Analysis"
   ],
   "metadata": {
    "id": "aLMRI8Go1UFU"
   }
  },
  {
   "cell_type": "markdown",
   "source": [
    "#### Summary statistics\n",
    "\n",
    "Note: The \"e_1\", \"e_2\" and \"e_3\" in the summary table are normalised, so their ranges are (0, 1) instead of (0, e_0)."
   ],
   "metadata": {
    "id": "SnPbqhrvj69h"
   }
  },
  {
   "cell_type": "code",
   "execution_count": 10,
   "outputs": [
    {
     "name": "stdout",
     "output_type": "stream",
     "text": [
      "Inference for Stan model: anon_model_1c931a5451211e7706e36f3731253ef1.\n",
      "4 chains, each with iter=1000; warmup=500; thin=1; \n",
      "post-warmup draws per chain=500, total post-warmup draws=2000.\n",
      "\n",
      "                  mean se_mean     sd   2.5%    25%    50%    75%  97.5%  n_eff   Rhat\n",
      "e_0             100.86    0.05   1.81  97.43  99.61 100.81 102.06 104.53   1132    1.0\n",
      "e_1               0.24  7.5e-3   0.22 5.2e-4   0.05   0.19   0.39   0.75    865    1.0\n",
      "e_2               0.82    0.01   0.21   0.07   0.77    0.9   0.94   0.98    241   1.02\n",
      "e_3               0.16  4.8e-3   0.16 2.1e-4   0.02    0.1   0.25   0.53   1116   1.01\n",
      "logC_1            1.86    0.04    1.0  -0.15   1.26   1.91    2.4   3.95    505    1.0\n",
      "logC_2           -0.65    0.49   9.69  -18.1  -8.57  -0.31   8.16  13.29    398    1.0\n",
      "h_1               0.58  2.9e-3   0.09   0.44   0.52   0.57   0.63   0.78    877    1.0\n",
      "h_2               0.63    0.05   1.21   0.08   0.16   0.23   0.49   4.01    634    1.0\n",
      "alpha             2.28    0.05   1.72   0.55   1.29   1.84   2.76   6.42   1013    1.0\n",
      "sigma             2.79    0.01   0.36   2.18   2.53   2.75   3.01   3.57   1142    1.0\n",
      "Y_synthetic[1]  100.24    0.08   3.35  93.66  98.03 100.36 102.56 106.91   1796    1.0\n",
      "Y_synthetic[2]    96.1    0.08   3.18  89.83  93.95  96.05  98.24 102.32   1541    1.0\n",
      "Y_synthetic[3]   95.47    0.08   3.04  89.47  93.49  95.54  97.49  101.2   1564    1.0\n",
      "Y_synthetic[4]    95.0    0.07   2.98  88.95  93.08   94.9  97.04 100.75   1588    1.0\n",
      "Y_synthetic[5]   94.44    0.08   3.13  88.15  92.37  94.45  96.33 101.03   1737    1.0\n",
      "Y_synthetic[6]   93.82     0.1   3.37  87.11  91.59  93.82  96.12 100.35   1037    1.0\n",
      "Y_synthetic[7]   98.06    0.07   3.04  92.01  96.04  98.03 100.08 104.08   1784    1.0\n",
      "Y_synthetic[8]   93.24    0.09   3.14  87.08  91.12  93.12   95.3  99.46   1345    1.0\n",
      "Y_synthetic[9]   92.73    0.07   2.98   86.8  90.79  92.78  94.69  98.51   1760    1.0\n",
      "Y_synthetic[10]   92.2    0.07   2.97  86.41  90.21  92.11  94.18  98.16   2042    1.0\n",
      "Y_synthetic[11]  91.46    0.08   2.94  85.61  89.58  91.38  93.37  97.48   1525    1.0\n",
      "Y_synthetic[12]  90.91     0.1   3.15  84.56   88.9  90.98  93.02  96.85    991    1.0\n",
      "Y_synthetic[13]  96.38    0.08   3.16  90.11  94.27  96.46  98.46 102.46   1598    1.0\n",
      "Y_synthetic[14]  91.05    0.08   3.06  85.01  89.02  91.02  93.08  97.21   1311    1.0\n",
      "Y_synthetic[15]  90.44    0.07   2.99  84.54  88.52  90.37  92.36  96.34   1885    1.0\n",
      "Y_synthetic[16]  89.86    0.07    2.9  84.22  87.95  89.87  91.72   95.6   1709    1.0\n",
      "Y_synthetic[17]  89.16    0.07   2.89  83.59  87.18   89.1  90.96  95.14   1740    1.0\n",
      "Y_synthetic[18]  88.51    0.09    3.1  82.48  86.48  88.49  90.49  94.79   1118    1.0\n",
      "Y_synthetic[19]  93.09    0.07    3.1  86.63  91.05  93.17   95.2  99.12   1985    1.0\n",
      "Y_synthetic[20]  86.73    0.08   3.14  80.54  84.59  86.75  88.76  92.87   1614    1.0\n",
      "Y_synthetic[21]  86.03    0.08   3.04  80.12  84.05  86.11  88.01  91.88   1589    1.0\n",
      "Y_synthetic[22]  85.51    0.07   2.86  79.78  83.66  85.55  87.46  90.88   1917    1.0\n",
      "Y_synthetic[23]  84.81    0.07   2.98  78.98  82.78  84.83  86.67   90.9   1921    1.0\n",
      "Y_synthetic[24]  84.18    0.08   3.13  77.81  82.16  84.16  86.19  90.44   1573    1.0\n",
      "Y_synthetic[25]  87.96    0.09   3.25  81.65  85.68  87.97  90.27  94.19   1398    1.0\n",
      "Y_synthetic[26]  80.38     0.1   3.21  74.18  78.27  80.34  82.45  86.88   1116    1.0\n",
      "Y_synthetic[27]  79.67    0.08   3.06  73.86  77.56  79.68  81.74  85.59   1612    1.0\n",
      "Y_synthetic[28]  79.05    0.07   2.92  73.46  77.16  79.09  80.94  84.92   1909    1.0\n",
      "Y_synthetic[29]  78.37    0.07   2.98  72.12  76.38  78.41  80.34  84.12   1924    1.0\n",
      "Y_synthetic[30]  77.74    0.09    3.1  71.67  75.68  77.75  79.89  83.92   1164    1.0\n",
      "Y_synthetic[31]  79.26    0.14   4.16  70.76  76.57   79.2  81.95  87.45    886    1.0\n",
      "Y_synthetic[32]  70.29    0.09   3.32  63.65  68.09  70.31  72.48  76.81   1278    1.0\n",
      "Y_synthetic[33]  69.57    0.08   3.14  63.48  67.47  69.62  71.59  75.68   1679    1.0\n",
      "Y_synthetic[34]  68.82    0.07   3.06  62.91  66.78  68.76  70.94  75.02   1706    1.0\n",
      "Y_synthetic[35]  68.19    0.07   3.07  62.18  66.15   68.1  70.26  74.33   1993    1.0\n",
      "Y_synthetic[36]  67.45    0.08   3.19  61.12  65.41  67.44  69.51  74.07   1492    1.0\n",
      "lp__            -53.46    0.16   2.76 -59.99  -55.0 -53.11 -51.46 -49.06    305   1.01\n",
      "\n",
      "Samples were drawn using NUTS at Wed Apr 19 15:39:17 2023.\n",
      "For each parameter, n_eff is a crude measure of effective sample size,\n",
      "and Rhat is the potential scale reduction factor on split chains (at \n",
      "convergence, Rhat=1).\n"
     ]
    }
   ],
   "source": [
    "# diagnostics\n",
    "summary_dict = fit.summary()\n",
    "df = pd.DataFrame(summary_dict['summary'], columns=summary_dict['summary_colnames'],\n",
    "                  index=summary_dict['summary_rownames'])\n",
    "# Extracting traces\n",
    "e_0, e_1, e_2, e_3 = fit['e_0'], fit['e_1'], fit['e_2'], fit['e_3']\n",
    "logC_1, logC_2, h_1, h_2 = fit['logC_1'], fit['logC_2'], fit['h_1'], fit['h_2']\n",
    "alpha, sigma = fit['alpha'], fit['sigma']\n",
    "\n",
    "print(fit.stansummary())"
   ],
   "metadata": {
    "collapsed": false,
    "pycharm": {
     "name": "#%%\n"
    }
   }
  },
  {
   "cell_type": "markdown",
   "source": [
    "#### Visualisation of the synergy\n",
    "\n",
    "1. The contour plot for the joint posterior distribution of the synergistic efficacy (ΔHSA) and the synergistic potency (log(α)). The distribution is smoothed from the empirical posterior with a kernel density estimation for visualisation purpose.\n",
    "\n",
    "2. The histogram of the synergistic efficacy (ΔHSA). The area on the right hand side of the red vertical line is the probability that the combination is synergistic in terms of efficacy.\n",
    "\n",
    "3. The histogram of synergistic potency (log(α)). The area on the right hand side of the red vertical line is the probability that the combination is synergistic in terms of potency."
   ],
   "metadata": {
    "id": "LG92oAx26BVQ"
   }
  },
  {
   "cell_type": "code",
   "source": [
    "# Plot the posterior\n",
    "e0, e1, e2, e3, alpha = fit['e_0'], fit['e_1'], fit['e_2'], fit['e_3'], fit['alpha']\n",
    "delta_hsa = e0 * (np.minimum(e1, e2) - e3)\n",
    "\n",
    "print('First quadrant: The combination is synergistic in terms of both potency and efficacy.')\n",
    "print('Second quadrant: The combination is synergistic in terms of efficacy but not potency.')\n",
    "print('Third quadrant: The combination is synergistic in terms of potency but not efficacy.')\n",
    "print('Fourth quadrant: The combination is not synergistic in terms of either potency or efficacy.')\n",
    "\n",
    "sns.kdeplot(x=np.log(alpha), y=delta_hsa, cmap=\"Blues\", fill=True, # shade=True, shade_lowest=False,\n",
    "            thresh=0, clip=((-5, 5), (-100, 100)))\n",
    "sns.lineplot(x=[-5, 5], y=[0, 0], color='r', linewidth=1.5, linestyle='--')\n",
    "sns.lineplot(x=[0, 0], y=[-100, 100], color='r', linewidth=1.5, linestyle='--', estimator=None)\n",
    "plt.xlabel(r'$\\log(\\alpha)$')\n",
    "plt.ylabel(r'$\\Delta(HSA)$')\n",
    "plt.xlim([-3, 3])\n",
    "plt.ylim([-50, 50])\n",
    "plt.show()\n",
    "\n",
    "delta_hsa = 100 * (np.minimum(e1[1000:-1], e2[1000:-1]) - e3[1000:-1])\n",
    "alpha_vec = alpha[1000:-1]\n",
    "\n",
    "print('P(the combination is synergistic in terms of both potency and efficacy) = {:.2f}%'.format(\n",
    "      100*len(np.intersect1d(np.where(delta_hsa > 0)[0], np.where(alpha_vec > 1)[0]))/len(delta_hsa)))\n",
    "print('P(the combination is synergistic in terms of efficacy but not potency) = {:.2f}%'.format(\n",
    "      100*len(np.intersect1d(np.where(delta_hsa > 0)[0], np.where(alpha_vec < 1)[0]))/len(delta_hsa)))\n",
    "print('P(the combination is synergistic in terms of potency but not efficacy) = {:.2f}%'.format(\n",
    "      100*len(np.intersect1d(np.where(delta_hsa < 0)[0], np.where(alpha_vec > 1)[0]))/len(delta_hsa)))\n",
    "print('P(the combination is not synergistic in terms of either potency or efficacy) = {:.2f}%'.format(\n",
    "      100*len(np.intersect1d(np.where(delta_hsa < 0)[0], np.where(alpha_vec < 1)[0]))/len(delta_hsa)))\n",
    "\n",
    "plt.plot()\n",
    "val, _, _ = plt.hist(delta_hsa, density=True, histtype='step')\n",
    "plt.plot([0, 0], [0, np.max(val)], color='r')\n",
    "plt.xlabel(r'$\\Delta(HSA)$')\n",
    "plt.show()\n",
    "\n",
    "print('P(the combination is synergistic in terms of efficacy) = P(Delta HSA>0) = {:.2f}%'.format(\n",
    "      100*len(np.where(delta_hsa > 0)[0])/len(delta_hsa)))\n",
    "\n",
    "plt.plot()\n",
    "val, _, _ = plt.hist(np.log(alpha_vec), density=True, histtype='step')\n",
    "plt.plot([0, 0], [0, np.max(val)], color='r')\n",
    "plt.xlabel(r'$\\log(\\alpha)$')\n",
    "plt.show()\n",
    "\n",
    "print('P(the combination is synergistic in terms of potency) = P(alpha>1) = {:.2f}%'.format(\n",
    "      100*len(np.where(alpha_vec > 1)[0])/len(alpha_vec)))"
   ],
   "metadata": {
    "colab": {
     "base_uri": "https://localhost:8080/",
     "height": 1000
    },
    "id": "eltDTpd4Y5kf",
    "outputId": "b7597a2c-e764-4229-f43e-20ada2daedac"
   },
   "execution_count": 11,
   "outputs": [
    {
     "name": "stdout",
     "output_type": "stream",
     "text": [
      "First quadrant: The combination is synergistic in terms of both potency and efficacy.\n",
      "Second quadrant: The combination is synergistic in terms of efficacy but not potency.\n",
      "Third quadrant: The combination is synergistic in terms of potency but not efficacy.\n",
      "Fourth quadrant: The combination is not synergistic in terms of either potency or efficacy.\n",
      "P(the combination is synergistic in terms of both potency and efficacy) = 52.55%\n",
      "P(the combination is synergistic in terms of efficacy but not potency) = 10.91%\n",
      "P(the combination is synergistic in terms of potency but not efficacy) = 33.93%\n",
      "P(the combination is not synergistic in terms of either potency or efficacy) = 2.60%\n",
      "P(the combination is synergistic in terms of efficacy) = P(Delta HSA>0) = 63.46%\n",
      "P(the combination is synergistic in terms of potency) = P(alpha>1) = 86.49%\n"
     ]
    },
    {
     "data": {
      "text/plain": "<Figure size 432x288 with 1 Axes>",
      "image/png": "[encoded data removed]"
     },
     "metadata": {
      "needs_background": "light"
     },
     "output_type": "display_data"
    },
    {
     "data": {
      "text/plain": "<Figure size 432x288 with 1 Axes>",
      "image/png": "[encoded data removed]"
     },
     "metadata": {
      "needs_background": "light"
     },
     "output_type": "display_data"
    },
    {
     "data": {
      "text/plain": "<Figure size 432x288 with 1 Axes>",
      "image/png": "[encoded data removed]"
     },
     "metadata": {
      "needs_background": "light"
     },
     "output_type": "display_data"
    }
   ]
  }
 ]
}