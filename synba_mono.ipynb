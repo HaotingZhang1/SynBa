{
 "nbformat": 4,
 "nbformat_minor": 0,
 "metadata": {
  "colab": {
   "provenance": []
  },
  "kernelspec": {
   "name": "python3",
   "display_name": "Python 3"
  },
  "language_info": {
   "name": "python"
  }
 },
 "cells": [
  {
   "cell_type": "markdown",
   "source": [
    "### Install and import the required packages"
   ],
   "metadata": {
    "id": "j6XsP0-r2rwY"
   }
  },
  {
   "cell_type": "code",
   "source": [
    "import numpy as np\n",
    "import matplotlib.pyplot as plt\n",
    "import pandas as pd\n",
    "import time"
   ],
   "metadata": {
    "id": "6ituoB7QhCsR"
   },
   "execution_count": 1,
   "outputs": []
  },
  {
   "cell_type": "code",
   "source": [
    "# Installing pystan (may take around 8 minutes if the package is not in the environment yet)\n",
    "t = time.time()\n",
    "!pip install pystan==2.19.0.0\n",
    "print('Time elapsed: {} seconds'.format(time.time() - t))"
   ],
   "metadata": {
    "colab": {
     "base_uri": "https://localhost:8080/"
    },
    "id": "qIHgFagN08Qw",
    "outputId": "00b97c39-c1f3-46b8-b2ad-33ff04e7df25"
   },
   "execution_count": 2,
   "outputs": [
    {
     "output_type": "stream",
     "name": "stdout",
     "text": [
      "Looking in indexes: https://pypi.org/simple, https://us-python.pkg.dev/colab-wheels/public/simple/\n",
      "Collecting pystan==2.19.0.0\n",
      "  Downloading pystan-2.19.0.0.tar.gz (16.5 MB)\n",
      "\u001B[2K     \u001B[90m━━━━━━━━━━━━━━━━━━━━━━━━━━━━━━━━━━━━━━━━\u001B[0m \u001B[32m16.5/16.5 MB\u001B[0m \u001B[31m6.5 MB/s\u001B[0m eta \u001B[36m0:00:00\u001B[0m\n",
      "\u001B[?25h  Preparing metadata (setup.py) ... \u001B[?25l\u001B[?25hdone\n",
      "Requirement already satisfied: Cython!=0.25.1,>=0.22 in /usr/local/lib/python3.8/dist-packages (from pystan==2.19.0.0) (0.29.33)\n",
      "Requirement already satisfied: numpy>=1.7 in /usr/local/lib/python3.8/dist-packages (from pystan==2.19.0.0) (1.21.6)\n",
      "Building wheels for collected packages: pystan\n",
      "  Building wheel for pystan (setup.py) ... \u001B[?25l\u001B[?25hdone\n",
      "  Created wheel for pystan: filename=pystan-2.19.0.0-cp38-cp38-linux_x86_64.whl size=61787612 sha256=31f7f19cf6b79d734ceb89828af2d4b597cfe2edc56255ed4de29350221669dc\n",
      "  Stored in directory: /root/.cache/pip/wheels/92/af/46/7a021b32f4f0dec5d0a7b669e13b95a40a62ce007ac1039442\n",
      "Successfully built pystan\n",
      "Installing collected packages: pystan\n",
      "  Attempting uninstall: pystan\n",
      "    Found existing installation: pystan 3.3.0\n",
      "    Uninstalling pystan-3.3.0:\n",
      "      Successfully uninstalled pystan-3.3.0\n",
      "Successfully installed pystan-2.19.0.0\n",
      "Time elapsed: 482.15744829177856 seconds\n"
     ]
    }
   ]
  },
  {
   "cell_type": "code",
   "source": [
    "import pystan"
   ],
   "metadata": {
    "id": "Mt0Vm5NCazKT"
   },
   "execution_count": 3,
   "outputs": []
  },
  {
   "cell_type": "code",
   "source": [
    "import matplotlib as mpl\n",
    "mpl.rcParams.update(mpl.rcParamsDefault)\n",
    "mpl.rcParams['axes.spines.right'] = False\n",
    "mpl.rcParams['axes.spines.top'] = False\n",
    "mpl.rc('font', size=16)\n",
    "mpl.rc('xtick', labelsize=16)\n",
    "mpl.rc('ytick', labelsize=16)"
   ],
   "metadata": {
    "id": "q6B-04N40Ein"
   },
   "execution_count": 4,
   "outputs": []
  },
  {
   "cell_type": "markdown",
   "source": [
    "### Input your data of interest"
   ],
   "metadata": {
    "id": "DLag9Mrb1sGq"
   }
  },
  {
   "cell_type": "code",
   "source": [
    "# For example:\n",
    "X = np.array([0., 0.01, 0.03, 0.1, 0.3, 1.])\n",
    "Y = np.array([100., 96.1, 91.6, 78.2, 62.3, 40.8])\n",
    "print('dosage: ', X, 'response: ', Y)"
   ],
   "metadata": {
    "colab": {
     "base_uri": "https://localhost:8080/"
    },
    "id": "UXbQfJ741wBb",
    "outputId": "6a394e49-d51f-4156-f194-1e757dc05488"
   },
   "execution_count": 5,
   "outputs": [
    {
     "output_type": "stream",
     "name": "stdout",
     "text": [
      "dosage:  [0.   0.01 0.03 0.1  0.3  1.  ] response:  [100.   96.1  91.6  78.2  62.3  40.8]\n"
     ]
    }
   ]
  },
  {
   "cell_type": "code",
   "source": [
    "# Alternatively, upload dataset in the form of a .csv file, where the first \n",
    "# column is named \"dosage\", and the second column is named \"response\".\n",
    "df = pd.read_csv(\"your_dose_response_data.csv\")\n",
    "X = df[\"dosage\"]\n",
    "Y = df[\"response\"]"
   ],
   "metadata": {
    "id": "8d3Ae59j1vPg"
   },
   "execution_count": null,
   "outputs": []
  },
  {
   "cell_type": "markdown",
   "source": [
    "### Define the model according to Box 1 in the paper\n",
    "\n",
    "#### Notes:\n",
    " - The prior for $E_0$ is defined to be Gaussian with mean $100$ and a standard deviation of $3$ (i.e. $B=100$ where $B$ is\n",
    " defined in the paper). But this may need to be changed according to the range of the responses in the dataset. For example, if the response range\n",
    " is between $0$ and $1$, then the prior for $E_0$ below shall be changed from `e0 ~ normal(100, 3)` to `e0 ~ normal(1, 0.03)`,\n",
    " or some standard deviation other than $0.03$ (but the mean needs to be $1$).\n",
    " - The Beta prior for the normalised $\\text{E}_{\\text{inf}}$ is defined according to Option 2 in the paper. To opt for\n",
    " Option 1, change the prior for `einf` below from `einf ~ beta(0.46, 0.58)` to `einf ~ uniform(0, 1)`.\n",
    " - The bounds for the prior of $\\log C$ are defined according to the dosage range of the AstraZeneca-Sanger DREAM challenge.\n",
    " Please refer to the paper for information on how to adjust the bounds (if necessary)."
   ],
   "metadata": {
    "id": "yNWVQruq1LiL"
   }
  },
  {
   "cell_type": "code",
   "source": [
    "model = \"\"\"\n",
    "data {\n",
    "  int<lower=0> N;\n",
    "  int<lower=0> N_test;\n",
    "  vector[N] X;\n",
    "  vector[N] Y;\n",
    "  vector[N_test] X_test;\n",
    "}\n",
    "parameters {\n",
    "  real<lower=0> e0;\n",
    "  real<lower=0, upper=1> einf;\n",
    "  real<lower=log(1e-10), upper=log(1e6)> logC;\n",
    "  real<lower=0> h;\n",
    "  real<lower=0> sigma;\n",
    "}\n",
    "model {\n",
    "    h ~ lognormal(0, 1);\n",
    "    einf ~ beta(0.46, 0.58);\n",
    "    sigma ~ lognormal(0, 1);\n",
    "    e0 ~ normal(100, 3);\n",
    "    for(i in 1:N)\n",
    "    Y[i] ~ normal( e0 + (einf * e0 - e0) / (1.0 + (exp(logC) / X[i]) ^ h), sigma);\n",
    "}\n",
    "generated quantities {\n",
    "    vector[N_test] Y_synthetic;\n",
    "    for(i in 1:N_test){\n",
    "        Y_synthetic[i] = normal_rng( e0 + (einf * e0 - e0) / (1.0 + (exp(logC) / X_test[i]) ^ h), sigma);\n",
    "    }\n",
    "}\n",
    "\"\"\""
   ],
   "metadata": {
    "id": "vgbQkOHK2MWB"
   },
   "execution_count": 6,
   "outputs": []
  },
  {
   "cell_type": "code",
   "source": [
    "def synba_train(sm, X, Y, X_test=None, Y_test=None, iter=1000, chains=4, \n",
    "                warmup=500, adapt_delta=0.9):\n",
    "  N = len(Y)\n",
    "  # Add a tiny value to the zeros.\n",
    "  zero_ind = np.where(X == 0)[0]\n",
    "  X[zero_ind] = np.minimum(1e-8, 0.001 * np.min(X[np.where(X>0)[0]]))\n",
    "  if X_test is None:\n",
    "    N_test, X_test = N, X\n",
    "  data = {'N': N, 'X': X, 'Y': Y, 'N_test': N_test, 'X_test': X_test}\n",
    "  fit = sm.sampling(data=data, iter=iter, chains=chains, warmup=warmup, thin=1, \n",
    "                    seed=101, control=dict(adapt_delta=adapt_delta))\n",
    "  return fit"
   ],
   "metadata": {
    "id": "RxDVx4irsOJX"
   },
   "execution_count": 7,
   "outputs": []
  },
  {
   "cell_type": "markdown",
   "source": [
    "### Compile and train the model"
   ],
   "metadata": {
    "id": "HduEIV3z1SbF"
   }
  },
  {
   "cell_type": "code",
   "source": [
    "# Compile the model (may take around 1-2 minutes)\n",
    "# Note: This cell only needs to be run once! As long as the definition for the\n",
    "# model above is unchanged, this cell does not need to be repeated, even for\n",
    "# different datasets.\n",
    "t = time.time()\n",
    "sm = pystan.StanModel(model_code=model)\n",
    "print('Time taken to compile the model: {} seconds'.format(time.time() - t))"
   ],
   "metadata": {
    "colab": {
     "base_uri": "https://localhost:8080/"
    },
    "id": "Z7n_qAv2tAro",
    "outputId": "f4e17e7a-fca2-4ba9-fc0f-dd3983d16320"
   },
   "execution_count": 8,
   "outputs": [
    {
     "output_type": "stream",
     "name": "stdout",
     "text": [
      "Time elapsed: 104.68464660644531 seconds\n"
     ]
    }
   ]
  },
  {
   "cell_type": "code",
   "source": [
    "# Fit the model and generate samples\n",
    "t = time.time()\n",
    "fit = synba_train(sm, X, Y)\n",
    "print('Time taken to fit the model: {} seconds'.format(time.time() - t))"
   ],
   "metadata": {
    "colab": {
     "base_uri": "https://localhost:8080/"
    },
    "id": "lHJne9qV16Kg",
    "outputId": "f6a5bef2-9fa3-4d76-abec-871de17fa1df"
   },
   "execution_count": 9,
   "outputs": [
    {
     "output_type": "stream",
     "name": "stderr",
     "text": [
      "WARNING:pystan:12 of 2000 iterations ended with a divergence (0.6 %).\n",
      "WARNING:pystan:Try running with adapt_delta larger than 0.9 to remove the divergences.\n"
     ]
    },
    {
     "output_type": "stream",
     "name": "stdout",
     "text": [
      "Time taken to fit the model: 0.8132009506225586 seconds\n"
     ]
    }
   ]
  },
  {
   "cell_type": "markdown",
   "source": [
    "### Output Analysis"
   ],
   "metadata": {
    "id": "aLMRI8Go1UFU"
   }
  },
  {
   "cell_type": "markdown",
   "source": [
    "#### Summary statistics\n",
    "Note: The \"einf\" in the summary table is normalised, so its range is (0, 1) instead of (0, e0)."
   ],
   "metadata": {
    "collapsed": false
   }
  },
  {
   "cell_type": "code",
   "source": [
    "summary_dict = fit.summary()\n",
    "df = pd.DataFrame(summary_dict['summary'], columns=summary_dict['summary_colnames'],\n",
    "                  index=summary_dict['summary_rownames'])\n",
    "# Extracting traces\n",
    "e0, einf, logC, h, sigma = fit['e0'], fit['einf'], fit['logC'], fit['h'], fit['sigma']\n",
    "\n",
    "print(fit.stansummary())"
   ],
   "metadata": {
    "colab": {
     "base_uri": "https://localhost:8080/"
    },
    "id": "S9_WEO3r18QV",
    "outputId": "358d77c8-c76b-4afa-d9f9-634426deab28"
   },
   "execution_count": 10,
   "outputs": [
    {
     "output_type": "stream",
     "name": "stdout",
     "text": [
      "Inference for Stan model: anon_model_e7124fe2c3ecfc440c91569b6ead6227.\n",
      "4 chains, each with iter=1000; warmup=500; thin=1; \n",
      "post-warmup draws per chain=500, total post-warmup draws=2000.\n",
      "\n",
      "                 mean se_mean     sd   2.5%    25%    50%    75%  97.5%  n_eff   Rhat\n",
      "e0             100.19    0.04   0.89  98.23  99.71  100.2 100.71 101.98    559   1.01\n",
      "einf              0.1  4.4e-3   0.07 4.1e-4   0.03   0.09   0.14   0.26    274   1.01\n",
      "logC            -0.81    0.01   0.22  -1.33  -0.96  -0.79  -0.63  -0.48    280   1.01\n",
      "h                0.81  4.1e-3   0.07    0.7   0.76    0.8   0.84   0.98    287   1.01\n",
      "sigma            1.08    0.03   0.52   0.48   0.72   0.94   1.29   2.45    377   1.01\n",
      "Y_synthetic[1] 100.22    0.04   1.53  97.22  99.43 100.25 101.03 103.18   1362    1.0\n",
      "Y_synthetic[2]  95.99    0.04   1.42  93.12  95.26  95.99  96.76  98.83   1174    1.0\n",
      "Y_synthetic[3]  90.79    0.04   1.39  87.79  90.06   90.8  91.56  93.49   1552    1.0\n",
      "Y_synthetic[4]  79.13    0.03   1.45  76.23  78.33   79.1  79.94  82.06   1900    1.0\n",
      "Y_synthetic[5]  61.99    0.04   1.49  58.76  61.24  62.01  62.78  65.18   1149    1.0\n",
      "Y_synthetic[6]  40.84    0.04   1.66  37.47  39.93  40.83   41.7  44.25   1641    1.0\n",
      "lp__             2.44    0.14   2.42  -3.16   1.05   2.82    4.3   5.92    282   1.02\n",
      "\n",
      "Samples were drawn using NUTS at Tue Jan 24 23:20:06 2023.\n",
      "For each parameter, n_eff is a crude measure of effective sample size,\n",
      "and Rhat is the potential scale reduction factor on split chains (at \n",
      "convergence, Rhat=1).\n"
     ]
    }
   ]
  },
  {
   "cell_type": "markdown",
   "source": [
    "#### Output visualisation\n",
    "Note: Tune the A and B for different sizes of the histograms for Emax and IC50."
   ],
   "metadata": {
    "id": "LG92oAx26BVQ"
   }
  },
  {
   "cell_type": "code",
   "source": [
    "A, B = 1.5, 0.2\n",
    "print(\"Red histogram: The posterior distribution for IC50.\")\n",
    "print(\"Green histogram: The posterior distribution for Emax.\")\n",
    "print(\"Light blue curves: Sample dose-response curves from the posterior.\")\n",
    "print(\"Red bell curves: The estimated noise level for the responses.\")\n",
    "\n",
    "# Plotting regression line\n",
    "log_x_min, log_x_max = int(np.floor(np.log(np.min(X)))), int(np.ceil(np.log(np.max(X)))) + 8\n",
    "log_x_plot = np.linspace(log_x_min, log_x_max, 100)\n",
    "yy_max = np.repeat(-100, 6)\n",
    "yy_min = np.repeat(100, 6)\n",
    "\n",
    "fig, ax1 = plt.subplots()\n",
    "# Plot the sampled regression lines\n",
    "for i in range(len(e0)):\n",
    "    yy = e0[i] + (einf[i] * e0[i] - e0[i]) / (1.0 + (np.exp(logC[i]) / np.exp(log_x_plot)) ** h[i])\n",
    "    ax1.plot(log_x_plot, yy, color='lightsteelblue', alpha=0.005)\n",
    "    yy_x = e0[i] + (einf[i] * e0[i] - e0[i]) / (1.0 + (np.exp(logC[i]) / X) ** h[i])\n",
    "    yy_max = np.maximum(yy_max, yy_x + sigma[i])\n",
    "    yy_min = np.minimum(yy_min, yy_x - sigma[i])\n",
    "for i in range(6):\n",
    "    support = np.linspace(yy_min[i], yy_max[i], 100)\n",
    "    p_x = np.zeros(np.shape(support))\n",
    "    for j in range(len(e0)):\n",
    "        delta_support = support - (e0[j] + (einf[j] * e0[j] - e0[j]) / (1.0 + (np.exp(logC[j]) / X[i]) ** h[j]))\n",
    "        gaussian = np.exp((-delta_support ** 2.0) / (2 * sigma[j] ** 2.0))\n",
    "        gaussian *= -1\n",
    "        p_x += gaussian\n",
    "    p_x = p_x / np.max(np.abs(p_x)) * 0.5\n",
    "    ind = np.where(np.abs(p_x)>0.01)[0]\n",
    "    ax1.plot(p_x[ind] + np.log(X[i]), support[ind], c='red', linewidth=1)\n",
    "    ax1.plot(np.zeros_like(p_x[ind]) + np.log(X[i]), support[ind], c='red', linewidth=0.7)\n",
    "\n",
    "# Plot the original data\n",
    "ax1.scatter(np.log(X), Y, c='blue')\n",
    "ax1.set_xlabel('log(dosage)')\n",
    "ax1.set_ylabel('response')\n",
    "ax1.set_xlim(log_x_min, log_x_max)\n",
    "ax1.set_ylim(0, 120)\n",
    "\n",
    "# Plot data\n",
    "ax1.scatter(np.log(X), Y, c='blue')\n",
    "\n",
    "# Plot IC50 (with direct histogram)\n",
    "ax2 = ax1.twinx()\n",
    "ax2.axis('off')\n",
    "ax2.hist(logC, 30, density=True, color='r', alpha=0.5)\n",
    "ax2.set_ylim(0, A)\n",
    "\n",
    "# Plot Emax (with direct histogram)\n",
    "einf_rescaled = einf * e0\n",
    "ax3x = ax1.twinx()\n",
    "ax3 = ax3x.twiny()\n",
    "ax3.hist(einf_rescaled, 30, density=True, color='green', alpha=0.5, orientation=\"horizontal\")\n",
    "ax3.set_xlim(0, B)\n",
    "ax3.set_ylim(0, 120)\n",
    "ax3x.axis('off')\n",
    "ax3.axis('off')\n",
    "\n",
    "plt.show()"
   ],
   "metadata": {
    "colab": {
     "base_uri": "https://localhost:8080/",
     "height": 536
    },
    "id": "x68NeF0M2BHK",
    "outputId": "963ffd62-7bc9-47b2-95a5-a7d388effd0c"
   },
   "execution_count": 12,
   "outputs": [
    {
     "output_type": "stream",
     "name": "stdout",
     "text": [
      "Red histogram: The posterior distribution for IC50.\n",
      "Green histogram: The posterior distribution for Emax.\n",
      "Light blue curves: Sample dose-response curves from the posterior.\n",
      "Red bell curves: The estimated noise level for the responses.\n"
     ]
    },
    {
     "output_type": "display_data",
     "data": {
      "text/plain": [
       "<Figure size 640x480 with 4 Axes>"
      ],
      "image/png": "[encoded data removed]"
     },
     "metadata": {}
    }
   ]
  }
 ]
}