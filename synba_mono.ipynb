{
 "nbformat": 4,
 "nbformat_minor": 0,
 "metadata": {
  "colab": {
   "provenance": []
  },
  "kernelspec": {
   "name": "python2",
   "language": "python",
   "display_name": "Python 2"
  },
  "language_info": {
   "name": "python"
  }
 },
 "cells": [
  {
   "cell_type": "markdown",
   "source": [
    "### Install and import the required packages"
   ],
   "metadata": {
    "id": "j6XsP0-r2rwY"
   }
  },
  {
   "cell_type": "code",
   "source": [
    "import numpy as np\n",
    "import matplotlib.pyplot as plt\n",
    "import pandas as pd\n",
    "import time"
   ],
   "metadata": {
    "id": "6ituoB7QhCsR"
   },
   "execution_count": 1,
   "outputs": []
  },
  {
   "cell_type": "code",
   "source": [
    "# Installing pystan (may take around 8 minutes if the package is not in the environment yet)\n",
    "t = time.time()\n",
    "!pip install pystan==2.19.0.0\n",
    "print('Time elapsed: {} seconds'.format(time.time() - t))"
   ],
   "metadata": {
    "colab": {
     "base_uri": "https://localhost:8080/"
    },
    "id": "qIHgFagN08Qw",
    "outputId": "00b97c39-c1f3-46b8-b2ad-33ff04e7df25"
   },
   "execution_count": 2,
   "outputs": [
    {
     "name": "stdout",
     "output_type": "stream",
     "text": [
      "Requirement already satisfied: pystan==2.19.0.0 in /Users/haoting/opt/anaconda3/envs/DrugComb_Bayes/lib/python3.7/site-packages (2.19.0.0)\r\n",
      "Requirement already satisfied: Cython!=0.25.1,>=0.22 in /Users/haoting/opt/anaconda3/envs/DrugComb_Bayes/lib/python3.7/site-packages (from pystan==2.19.0.0) (0.29.30)\r\n",
      "Requirement already satisfied: numpy>=1.7 in /Users/haoting/opt/anaconda3/envs/DrugComb_Bayes/lib/python3.7/site-packages (from pystan==2.19.0.0) (1.21.5)\r\n",
      "Time elapsed: 1.173558235168457 seconds\n"
     ]
    }
   ]
  },
  {
   "cell_type": "code",
   "source": [
    "import pystan"
   ],
   "metadata": {
    "id": "Mt0Vm5NCazKT"
   },
   "execution_count": 3,
   "outputs": []
  },
  {
   "cell_type": "markdown",
   "source": [
    "### Input your data of interest"
   ],
   "metadata": {
    "id": "DLag9Mrb1sGq"
   }
  },
  {
   "cell_type": "code",
   "source": [
    "# For example:\n",
    "X = np.array([0., 0.01, 0.03, 0.1, 0.3, 1.])\n",
    "Y = np.array([100., 96.1, 91.6, 78.2, 62.3, 40.8])\n",
    "print('dosage: ', X, 'response: ', Y)"
   ],
   "metadata": {
    "colab": {
     "base_uri": "https://localhost:8080/"
    },
    "id": "UXbQfJ741wBb",
    "outputId": "6a394e49-d51f-4156-f194-1e757dc05488"
   },
   "execution_count": 4,
   "outputs": [
    {
     "name": "stdout",
     "output_type": "stream",
     "text": [
      "dosage:  [0.   0.01 0.03 0.1  0.3  1.  ] response:  [100.   96.1  91.6  78.2  62.3  40.8]\n"
     ]
    }
   ]
  },
  {
   "cell_type": "code",
   "source": [
    "# Alternatively, upload dataset in the form of a .csv file, where the first \n",
    "# column is named \"dosage\", and the second column is named \"response\".\n",
    "df = pd.read_csv(\"your_dose_response_data.csv\")\n",
    "X = df[\"dosage\"]\n",
    "Y = df[\"response\"]"
   ],
   "metadata": {
    "id": "8d3Ae59j1vPg"
   },
   "execution_count": null,
   "outputs": []
  },
  {
   "cell_type": "markdown",
   "source": [
    "### Define the model according to Box 1 in the paper\n",
    "\n",
    "#### Notes:\n",
    " - The prior for $E_0$ is defined to be Gaussian with mean $100$ and a standard deviation of $3$ (i.e. $B=100$ where $B$ is\n",
    " defined in the paper). But this may need to be changed according to the range of the responses in the dataset. For example, if the response range\n",
    " is between $0$ and $1$, then the prior for $E_0$ below shall be changed from `e0 ~ normal(100, 3)` to `e0 ~ normal(1, 0.03)`,\n",
    " or some standard deviation other than $0.03$ (but the mean needs to be $1$).\n",
    " - The Beta prior for the normalised $\\text{E}_{\\text{inf}}$ is defined according to Option 2 in the paper. To opt for\n",
    " Option 1, change the prior for `einf` below from `einf ~ beta(0.46, 0.58)` to `einf ~ uniform(0, 1)`.\n",
    " - The bounds for the prior of $\\log C$ are defined according to the dosage range of the AstraZeneca-Sanger DREAM challenge.\n",
    " Please refer to the paper for information on how to adjust the bounds (if necessary).\n",
    " - The prior for $\\sigma$ (the standard deviation of the i.i.d. noise) is defined to be lognormal(0, 1), where $\\mu=0$ controls the median of the prior.\n",
    " It can be tuned depending on the range of $Y$ and the noise level expected by the user.\n",
    " For example, when the range of $Y$ is between $0$ and $100$, then a lognormal(0, 1) gives a median of 1.\n",
    " But when the range of $Y$ is between $0$ and $1$, then a smaller $\\mu$ (e.g. somewhere between -5 and -4) may be more suitable.\n",
    " This could be determined by empirically estimating the noise level from an external dataset."
   ],
   "metadata": {
    "id": "yNWVQruq1LiL"
   }
  },
  {
   "cell_type": "code",
   "source": [
    "# Define the parameters for the prior distributions\n",
    "e0_mean = 100\n",
    "einf_beta_a = 0.46\n",
    "einf_beta_b = 0.58\n",
    "ic50_lb = 1e-10\n",
    "ic50_ub = 1e6\n",
    "sigma_mu = 0"
   ],
   "metadata": {
    "id": "vgbQkOHK2MWB"
   },
   "execution_count": 5,
   "outputs": []
  },
  {
   "cell_type": "code",
   "execution_count": 6,
   "outputs": [],
   "source": [
    "model = \"\"\"\n",
    "data {\n",
    "  int<lower=0> N;\n",
    "  int<lower=0> N_test;\n",
    "  vector[N] X;\n",
    "  vector[N] Y;\n",
    "  vector[N_test] X_test;\n",
    "  real e0_mean;\n",
    "  real einf_beta_a;\n",
    "  real einf_beta_b;\n",
    "  real ic50_lb;\n",
    "  real ic50_ub;\n",
    "  real sigma_mu;\n",
    "}\n",
    "parameters {\n",
    "  real<lower=0> e0;\n",
    "  real<lower=0, upper=1> einf;\n",
    "  real<lower=log(ic50_lb), upper=log(ic50_ub)> logC;\n",
    "  real<lower=0> h;\n",
    "  real<lower=0> sigma;\n",
    "}\n",
    "model {\n",
    "    h ~ lognormal(0, 1);\n",
    "    einf ~ beta(einf_beta_a, einf_beta_b);\n",
    "    sigma ~ lognormal(sigma_mu, 1);\n",
    "    e0 ~ normal(e0_mean, 0.03*e0_mean);\n",
    "    for(i in 1:N)\n",
    "    Y[i] ~ normal(e0 + (einf * e0 - e0) / (1.0 + (exp(logC) / X[i]) ^ h), sigma);\n",
    "}\n",
    "generated quantities {\n",
    "    vector[N_test] Y_synthetic;\n",
    "    for(i in 1:N_test){\n",
    "        Y_synthetic[i] = normal_rng(e0 + (einf * e0 - e0) / (1.0 + (exp(logC) / X_test[i]) ^ h), sigma);\n",
    "    }\n",
    "}\n",
    "\"\"\""
   ],
   "metadata": {
    "collapsed": false,
    "pycharm": {
     "name": "#%%\n"
    }
   }
  },
  {
   "cell_type": "code",
   "source": [
    "def synba_train(sm, X, Y, X_test=None, Y_test=None, iter=1000, e0_mean=100,\n",
    "                sigma_mu=0, chains=4,\n",
    "                warmup=500, adapt_delta=0.9):\n",
    "  N = len(Y)\n",
    "  # Add a tiny value to the zeros.\n",
    "  zero_ind = np.where(X == 0)[0]\n",
    "  X[zero_ind] = np.minimum(1e-8, 0.001 * np.min(X[np.where(X>0)[0]]))\n",
    "  if X_test is None:\n",
    "    N_test, X_test = N, X\n",
    "  data = {'N': N, 'X': X, 'Y': Y, 'N_test': N_test, 'X_test': X_test}\n",
    "  data = {'N': N, 'X': X, 'Y': Y, 'N_test': N_test, 'X_test': X_test,\n",
    "          'e0_mean': e0_mean, 'einf_beta_a': einf_beta_a, 'einf_beta_b': einf_beta_b,\n",
    "          'ic50_lb': ic50_lb, 'ic50_ub': ic50_ub, 'sigma_mu': sigma_mu}\n",
    "  fit = sm.sampling(data=data, iter=iter, chains=chains, warmup=warmup, thin=1, \n",
    "                    seed=101, control=dict(adapt_delta=adapt_delta))\n",
    "  return fit"
   ],
   "metadata": {
    "id": "RxDVx4irsOJX"
   },
   "execution_count": 7,
   "outputs": []
  },
  {
   "cell_type": "markdown",
   "source": [
    "### Compile and train the model"
   ],
   "metadata": {
    "id": "HduEIV3z1SbF"
   }
  },
  {
   "cell_type": "code",
   "outputs": [],
   "source": [
    "# Compile the model (may take around 1-2 minutes)\n",
    "# Note: This cell only needs to be run once! As long as the definition for the\n",
    "# model above is unchanged, this cell does not need to be repeated, even for\n",
    "# different datasets.\n",
    "t = time.time()\n",
    "sm = pystan.StanModel(model_code=model)\n",
    "print('Time taken to compile the model: {} seconds'.format(time.time() - t))"
   ],
   "metadata": {
    "colab": {
     "base_uri": "https://localhost:8080/"
    },
    "id": "Z7n_qAv2tAro",
    "outputId": "f4e17e7a-fca2-4ba9-fc0f-dd3983d16320"
   },
   "execution_count": 8,
   "outputs": [
    {
     "output_type": "stream",
     "name": "stdout",
     "text": [
      "Time elapsed: 104.68464660644531 seconds\n"
     ]
    }
   ]
  },
  {
   "cell_type": "code",
   "source": [
    "# Fit the model and generate samples\n",
    "t = time.time()\n",
    "fit = synba_train(sm, X, Y)\n",
    "print('Time taken to fit the model: {} seconds'.format(time.time() - t))"
   ],
   "metadata": {
    "colab": {
     "base_uri": "https://localhost:8080/"
    },
    "id": "lHJne9qV16Kg",
    "outputId": "f6a5bef2-9fa3-4d76-abec-871de17fa1df"
   },
   "execution_count": 9,
   "outputs": [
    {
     "output_type": "stream",
     "name": "stderr",
     "text": [
      "WARNING:pystan:12 of 2000 iterations ended with a divergence (0.6 %).\n",
      "WARNING:pystan:Try running with adapt_delta larger than 0.9 to remove the divergences.\n"
      "Iteration: 900 / 1000 [ 90%]  (Sampling)\n",
      "Iteration: 900 / 1000 [ 90%]  (Sampling)\n",
      "Iteration: 700 / 1000 [ 70%]  (Sampling)\n",
      "Iteration: 1000 / 1000 [100%]  (Sampling)\n",
      " Elapsed Time: 0.157299 seconds (Warm-up)\n",
     ]
    },
    {
     "output_type": "stream",
     "name": "stdout",
     "text": [
      "Time taken to fit the model: 0.8132009506225586 seconds\n"
      "\n",
      "Informational Message: The current Metropolis proposal is about to be rejected because of the following issue:\n",
      "Exception: normal_lpdf: Location parameter is nan, but must be finite!  (in 'unknown file name' at line 28)\n",
      "\n",
      "If this warning occurs sporadically, such as for highly constrained variable types like covariance matrices, then the sampler is fine,\n",
      "but if this warning occurs often then your model may be either severely ill-conditioned or misspecified.\n",
      "\n",
      "Informational Message: The current Metropolis proposal is about to be rejected because of the following issue:\n",
      "Exception: normal_lpdf: Location parameter is nan, but must be finite!  (in 'unknown file name' at line 28)\n",
      "If this warning occurs sporadically, such as for highly constrained variable types like covariance matrices, then the sampler is fine,\n",
      "\n",
     ]
    }
   ]
  },
  {
   "cell_type": "markdown",
   "source": [
    "### Output Analysis"
   ],
   "metadata": {
    "id": "aLMRI8Go1UFU"
   }
  },
  {
   "cell_type": "markdown",
   "source": [
    "#### Summary statistics\n",
    "Note: The \"einf\" in the summary table is normalised, so its range is (0, 1) instead of (0, e0)."
   ],
   "metadata": {
    "collapsed": false
   }
  },
  {
   "cell_type": "code",
   "source": [
    "summary_dict = fit.summary()\n",
    "df = pd.DataFrame(summary_dict['summary'], columns=summary_dict['summary_colnames'],\n",
    "                  index=summary_dict['summary_rownames'])\n",
    "# Extracting traces\n",
    "e0, einf, logC, h, sigma = fit['e0'], fit['einf'], fit['logC'], fit['h'], fit['sigma']\n",
    "\n",
    "print(fit.stansummary())"
   ],
   "metadata": {
    "colab": {
     "base_uri": "https://localhost:8080/"
    },
    "id": "S9_WEO3r18QV",
    "outputId": "358d77c8-c76b-4afa-d9f9-634426deab28"
   },
   "execution_count": 10,
   "outputs": [
    {
     "output_type": "stream",
     "name": "stdout",
     "text": [
      "Inference for Stan model: anon_model_e7124fe2c3ecfc440c91569b6ead6227.\n",
      "4 chains, each with iter=1000; warmup=500; thin=1; \n",
      "post-warmup draws per chain=500, total post-warmup draws=2000.\n",
      "\n",
      "                 mean se_mean     sd   2.5%    25%    50%    75%  97.5%  n_eff   Rhat\n",
      "einf              0.1  4.4e-3   0.07 4.1e-4   0.03   0.09   0.14   0.26    274   1.01\n",
      "logC            -0.81    0.01   0.22  -1.33  -0.96  -0.79  -0.63  -0.48    280   1.01\n",
      "h                0.81  4.1e-3   0.07    0.7   0.76    0.8   0.84   0.98    287   1.01\n",
      "sigma            1.08    0.03   0.52   0.48   0.72   0.94   1.29   2.45    377   1.01\n",
      "Y_synthetic[1] 100.22    0.04   1.53  97.22  99.43 100.25 101.03 103.18   1362    1.0\n",
      "Y_synthetic[2]  95.99    0.04   1.42  93.12  95.26  95.99  96.76  98.83   1174    1.0\n",
      "Y_synthetic[3]  90.79    0.04   1.39  87.79  90.06   90.8  91.56  93.49   1552    1.0\n",
      "Y_synthetic[4]  79.13    0.03   1.45  76.23  78.33   79.1  79.94  82.06   1900    1.0\n",
      "Y_synthetic[5]  61.99    0.04   1.49  58.76  61.24  62.01  62.78  65.18   1149    1.0\n",
      "Y_synthetic[6]  40.84    0.04   1.66  37.47  39.93  40.83   41.7  44.25   1641    1.0\n",
      "lp__             2.44    0.14   2.42  -3.16   1.05   2.82    4.3   5.92    282   1.02\n",
      "\n",
      "Samples were drawn using NUTS at Tue Jan 24 23:20:06 2023.\n",
      "sigma            1.06    0.03   0.53   0.49   0.71   0.93   1.23    2.5    420   1.01\n",
      "Y_synthetic[1] 100.22    0.05   1.55  97.12  99.44 100.23 101.07 103.27   1002    1.0\n",
      "Y_synthetic[2]  96.01    0.03   1.44  93.13  95.32  96.04  96.73  98.68   1764    1.0\n",
      "Y_synthetic[3]  90.76    0.04   1.34  88.11  90.03  90.77  91.47  93.46   1450    1.0\n",
      "Y_synthetic[4]   79.1    0.03   1.42  76.21  78.33  79.11  79.84  82.07   1896    1.0\n",
      "Y_synthetic[5]  61.97    0.04   1.51  58.75  61.15   62.0  62.82  64.94   1487    1.0\n",
      "Y_synthetic[6]  40.91    0.04   1.54  37.89  40.06  40.87  41.74   44.2   1573    1.0\n",
      "Samples were drawn using NUTS at Sun Apr 16 20:49:01 2023.\n",
      "For each parameter, n_eff is a crude measure of effective sample size,\n",
      "and Rhat is the potential scale reduction factor on split chains (at \n",
      "convergence, Rhat=1).\n"
     ]
    }
    "summary_dict = fit.summary()\n",
    "df = pd.DataFrame(summary_dict['summary'], columns=summary_dict['summary_colnames'],\n",
    "                  index=summary_dict['summary_rownames'])\n",
    "# Extracting traces\n",
    "e0, einf, logC, h, sigma = fit['e0'], fit['einf'], fit['logC'], fit['h'], fit['sigma']\n",
    "\n",
    "print(fit.stansummary())"
    "collapsed": false,
    "pycharm": {
     "name": "#%%\n"
    }
   }
  },
  {
   "cell_type": "markdown",
   "source": [
    "#### Output visualisation\n",
    "Note: Tune the A and B for different sizes of the histograms for Emax and IC50."
   ],
   "metadata": {
    "id": "LG92oAx26BVQ"
   }
  },
  {
   "cell_type": "code",
   "source": [
    "A, B = 1.5, 0.2\n",
    "print(\"Red histogram: The posterior distribution for IC50.\")\n",
    "print(\"Green histogram: The posterior distribution for Emax.\")\n",
    "print(\"Light blue curves: Sample dose-response curves from the posterior.\")\n",
    "print(\"Red bell curves: The estimated noise level for the responses.\")\n",
    "\n",
    "# Plotting regression line\n",
    "log_x_min, log_x_max = int(np.floor(np.log(np.min(X)))), int(np.ceil(np.log(np.max(X)))) + 8\n",
    "log_x_plot = np.linspace(log_x_min, log_x_max, 100)\n",
    "yy_max = np.repeat(-100, 6)\n",
    "yy_min = np.repeat(100, 6)\n",
    "\n",
    "fig, ax1 = plt.subplots()\n",
    "# Plot the sampled regression lines\n",
    "for i in range(len(e0)):\n",
    "    yy = e0[i] + (einf[i] * e0[i] - e0[i]) / (1.0 + (np.exp(logC[i]) / np.exp(log_x_plot)) ** h[i])\n",
    "    ax1.plot(log_x_plot, yy, color='lightsteelblue', alpha=0.005)\n",
    "    yy_x = e0[i] + (einf[i] * e0[i] - e0[i]) / (1.0 + (np.exp(logC[i]) / X) ** h[i])\n",
    "    yy_max = np.maximum(yy_max, yy_x + sigma[i])\n",
    "    yy_min = np.minimum(yy_min, yy_x - sigma[i])\n",
    "    support = np.linspace(yy_min[i], yy_max[i], 100)\n",
    "    p_x = np.zeros(np.shape(support))\n",
    "    for j in range(len(e0)):\n",
    "        delta_support = support - (e0[j] + (einf[j] * e0[j] - e0[j]) / (1.0 + (np.exp(logC[j]) / X[i]) ** h[j]))\n",
    "        gaussian = np.exp((-delta_support ** 2.0) / (2 * sigma[j] ** 2.0))\n",
    "        gaussian *= -1\n",
    "        p_x += gaussian\n",
    "    p_x = p_x / np.max(np.abs(p_x)) * 0.5\n",
    "    ind = np.where(np.abs(p_x)>0.01)[0]\n",
    "    ax1.plot(p_x[ind] + np.log(X[i]), support[ind], c='red', linewidth=1)\n",
    "    ax1.plot(np.zeros_like(p_x[ind]) + np.log(X[i]), support[ind], c='red', linewidth=0.7)\n",
    "\n",
    "# Plot the original data\n",
    "ax1.scatter(np.log(X), Y, c='blue')\n",
    "ax1.set_xlabel('log(dosage)')\n",
    "ax1.set_ylabel('response')\n",
    "ax1.set_xlim(log_x_min, log_x_max)\n",
    "ax1.set_ylim(0, 120)\n",
    "ax1.set_ylim(0, 1.2 * np.max(Y))\n",
    "\n",
    "# Plot data\n",
    "ax1.scatter(np.log(X), Y, c='blue')\n",
    "\n",
    "# Plot IC50 (with direct histogram)\n",
    "ax2 = ax1.twinx()\n",
    "ax2.axis('off')\n",
    "ax2.hist(logC, 30, density=True, color='r', alpha=0.5)\n",
    "ax2.set_ylim(0, A)\n",
    "\n",
    "# Plot Emax (with direct histogram)\n",
    "einf_rescaled = einf * e0\n",
    "ax3x = ax1.twinx()\n",
    "ax3 = ax3x.twiny()\n",
    "ax3.hist(einf_rescaled, 30, density=True, color='green', alpha=0.5, orientation=\"horizontal\")\n",
    "ax3.set_xlim(0, B)\n",
    "ax3.set_ylim(0, 120)\n",
    "ax3x.axis('off')\n",
    "ax3.axis('off')\n",
    "\n",
    "plt.show()"
   ],
   "metadata": {
    "colab": {
     "base_uri": "https://localhost:8080/",
     "height": 536
    },
    "id": "x68NeF0M2BHK",
    "outputId": "963ffd62-7bc9-47b2-95a5-a7d388effd0c"
   },
   "execution_count": 11,
   "outputs": [
    {
     "name": "stdout",
     "output_type": "stream",
     "text": [
      "Red histogram: The posterior distribution for IC50.\n",
      "Green histogram: The posterior distribution for Emax.\n",
      "Light blue curves: Sample dose-response curves from the posterior.\n",
      "Red bell curves: The estimated noise level for the responses.\n"
     ]
    },
    {
     "data": {
      "text/plain": "<Figure size 432x288 with 4 Axes>",
      "image/png": "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\n"
     },
     "metadata": {
      "needs_background": "light"
     },
     "output_type": "display_data"
    }
   ]
  }
 ]
}