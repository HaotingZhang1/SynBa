{
 "cells": [
  {
   "cell_type": "markdown",
   "metadata": {
    "id": "j6XsP0-r2rwY"
   },
   "source": [
    "### Install and import the required packages"
   ]
  },
  {
   "cell_type": "code",
   "execution_count": 1,
   "metadata": {
    "id": "6ituoB7QhCsR"
   },
   "outputs": [],
   "source": [
    "import numpy as np\n",
    "import matplotlib.pyplot as plt\n",
    "import pandas as pd\n",
    "import time"
   ]
  },
  {
   "cell_type": "code",
   "execution_count": 2,
   "outputs": [
    {
     "name": "stdout",
     "output_type": "stream",
     "text": [
      "Requirement already satisfied: cmdstanpy in /Users/haoting/miniforge3/envs/SynBa_cmdstanpy/lib/python3.8/site-packages (1.1.0)\r\n",
      "Requirement already satisfied: pandas in /Users/haoting/miniforge3/envs/SynBa_cmdstanpy/lib/python3.8/site-packages (from cmdstanpy) (1.5.3)\r\n",
      "Requirement already satisfied: numpy>=1.21 in /Users/haoting/miniforge3/envs/SynBa_cmdstanpy/lib/python3.8/site-packages (from cmdstanpy) (1.24.3)\r\n",
      "Requirement already satisfied: tqdm in /Users/haoting/miniforge3/envs/SynBa_cmdstanpy/lib/python3.8/site-packages (from cmdstanpy) (4.65.0)\r\n",
      "Requirement already satisfied: python-dateutil>=2.8.1 in /Users/haoting/miniforge3/envs/SynBa_cmdstanpy/lib/python3.8/site-packages (from pandas->cmdstanpy) (2.8.2)\r\n",
      "Requirement already satisfied: pytz>=2020.1 in /Users/haoting/miniforge3/envs/SynBa_cmdstanpy/lib/python3.8/site-packages (from pandas->cmdstanpy) (2022.7)\r\n",
      "Requirement already satisfied: six>=1.5 in /Users/haoting/miniforge3/envs/SynBa_cmdstanpy/lib/python3.8/site-packages (from python-dateutil>=2.8.1->pandas->cmdstanpy) (1.16.0)\r\n",
      "Time elapsed: 1.0267319679260254 seconds\n"
     ]
    }
   ],
   "source": [
    "# Installing cmdstanpy\n",
    "t = time.time()\n",
    "!pip install cmdstanpy\n",
    "print('Time elapsed: {} seconds'.format(time.time() - t))"
   ],
   "metadata": {
    "collapsed": false,
    "pycharm": {
     "name": "#%%\n"
    }
   }
  },
  {
   "cell_type": "code",
   "execution_count": 3,
   "outputs": [
    {
     "name": "stdout",
     "output_type": "stream",
     "text": [
      "Installing CmdStan version: 2.32.2\n",
      "Install directory: /Users/haoting/.cmdstan\n",
      "CmdStan version 2.32.2 already installed\n"
     ]
    },
    {
     "data": {
      "text/plain": "True"
     },
     "execution_count": 3,
     "metadata": {},
     "output_type": "execute_result"
    }
   ],
   "source": [
    "# If cmdstan is not installed yet:\n",
    "from cmdstanpy import install_cmdstan\n",
    "install_cmdstan(verbose=True)"
   ],
   "metadata": {
    "collapsed": false,
    "pycharm": {
     "name": "#%%\n"
    }
   }
  },
  {
   "cell_type": "code",
   "execution_count": 4,
   "metadata": {
    "pycharm": {
     "name": "#%%\n"
    }
   },
   "outputs": [
    {
     "data": {
      "text/plain": " (00:00) |            | Building CmdStan                     ",
      "application/vnd.jupyter.widget-view+json": {
       "version_major": 2,
       "version_minor": 0,
       "model_id": "ecd1fc02f1794a0e8204e29684d2a760"
      }
     },
     "metadata": {},
     "output_type": "display_data"
    }
   ],
   "source": [
    "# If there is bug while running it on Apple Silicon, try the following:\n",
    "from cmdstanpy import rebuild_cmdstan\n",
    "rebuild_cmdstan()"
   ]
  },
  {
   "cell_type": "markdown",
   "metadata": {
    "id": "DLag9Mrb1sGq"
   },
   "source": [
    "### Input your data of interest"
   ]
  },
  {
   "cell_type": "code",
   "execution_count": 5,
   "metadata": {
    "colab": {
     "base_uri": "https://localhost:8080/"
    },
    "id": "UXbQfJ741wBb",
    "outputId": "6a394e49-d51f-4156-f194-1e757dc05488"
   },
   "outputs": [
    {
     "name": "stdout",
     "output_type": "stream",
     "text": [
      "dosage:  [0.   0.01 0.03 0.1  0.3  1.  ] response:  [100.   96.1  91.6  78.2  62.3  40.8]\n"
     ]
    }
   ],
   "source": [
    "# For example:\n",
    "X = np.array([0., 0.01, 0.03, 0.1, 0.3, 1.])\n",
    "Y = np.array([100., 96.1, 91.6, 78.2, 62.3, 40.8])\n",
    "print('dosage: ', X, 'response: ', Y)"
   ]
  },
  {
   "cell_type": "code",
   "execution_count": null,
   "metadata": {
    "id": "8d3Ae59j1vPg"
   },
   "outputs": [],
   "source": [
    "# Alternatively, upload dataset in the form of a .csv file, where the first \n",
    "# column is named \"dosage\", and the second column is named \"response\".\n",
    "df = pd.read_csv(\"your_dose_response_data.csv\")\n",
    "X = df[\"dosage\"]\n",
    "Y = df[\"response\"]"
   ]
  },
  {
   "cell_type": "markdown",
   "metadata": {
    "id": "yNWVQruq1LiL"
   },
   "source": [
    "### Define the model according to Box 1 in the paper\n",
    "\n",
    "#### Notes:\n",
    " - The prior for $E_0$ is defined to be Gaussian with mean $100$ and a standard deviation of $3$ (i.e. $B=100$ where $B$ is defined in the paper). But this may need to be changed according to the range of the responses in the dataset. For example, if the response range is between $0$ and $1$, then the prior for $E_0$ below shall be changed from `e0 ~ normal(100, 3)` to `e0 ~ normal(1, 0.03)`. To do this, define `e0_mean = 1` in the cell below.\n",
    " - The Beta prior for the normalised $\\text{E}_{\\text{inf}}$ is defined according to Option 2 in the paper. To opt for Option 1, define `einf_beta_a = 1` and `einf_beta_b = 1` in the cell below so that we have `einf ~ beta(1, 1)` which is equivalent to `einf ~ uniform(0, 1)`.\n",
    " - The bounds for the prior of $\\log C$ are defined according to the dosage range of the AstraZeneca-Sanger DREAM challenge. Please refer to the paper for information on how to adjust the bounds (`ic50_lb` and `ic50_ub` in the cell below) if necessary.\n",
    " - The prior for $\\sigma$ (the standard deviation of the i.i.d. noise) is defined to be lognormal(0, 1), where $\\mu=0$ controls the median of the prior. It can be tuned depending on the range of $Y$ and the noise level expected by the user. For example, when the range of $Y$ is between $0$ and $100$, then a lognormal(0, 1) gives a median of 1. But when the range of $Y$ is between $0$ and $1$, then a smaller $\\mu$ (e.g. somewhere between -5 and -4) may be more suitable. This could be determined by empirically estimating the noise level from an external dataset. To tune this, change the value of `sigma_mu` in the cell below."
   ]
  },
  {
   "cell_type": "code",
   "execution_count": 6,
   "metadata": {
    "id": "vgbQkOHK2MWB"
   },
   "outputs": [],
   "source": [
    "# Define the parameters for the prior distributions\n",
    "e0_mean = 100\n",
    "einf_beta_a = 0.46\n",
    "einf_beta_b = 0.58\n",
    "ic50_lb = 1e-10\n",
    "ic50_ub = 1e6\n",
    "sigma_mu = 0"
   ]
  },
  {
   "cell_type": "markdown",
   "source": [
    "#### Note: The following cell only needs to be run if you are working on Google Colab. If you are working locally, the following cell does not need to be run, as long as synba_mono.stan is already in the working directory."
   ],
   "metadata": {
    "collapsed": false,
    "pycharm": {
     "name": "#%% md\n"
    }
   }
  },
  {
   "cell_type": "code",
   "execution_count": null,
   "outputs": [],
   "source": [
    "synba_mono = \"\"\"data {\n",
    "  int<lower=0> N;\n",
    "  int<lower=0> N_test;\n",
    "  vector[N] X;\n",
    "  vector[N] Y;\n",
    "  vector[N_test] X_test;\n",
    "  real<lower=0> e0_mean;\n",
    "  real<lower=0> einf_beta_a;\n",
    "  real<lower=0> einf_beta_b;\n",
    "  real log_ic50_lb;\n",
    "  real log_ic50_ub;\n",
    "  real sigma_mu;\n",
    "}\n",
    "parameters {\n",
    "  real<lower=0> e0;\n",
    "  real<lower=0, upper=1> einf;\n",
    "  real<lower=log_ic50_lb, upper=log_ic50_ub> logC;\n",
    "  real<lower=0> h;\n",
    "  real<lower=0> sigma;\n",
    "}\n",
    "model {\n",
    "    h ~ lognormal(0, 1);\n",
    "    einf ~ beta(einf_beta_a, einf_beta_b);\n",
    "    sigma ~ lognormal(sigma_mu, 1);\n",
    "    e0 ~ normal(e0_mean, 0.03*e0_mean);\n",
    "    for(i in 1:N)\n",
    "    Y[i] ~ normal(e0 + (einf * e0 - e0) / (1.0 + (exp(logC) / X[i]) ^ h), sigma);\n",
    "}\n",
    "generated quantities {\n",
    "    vector[N_test] Y_synthetic;\n",
    "    for(i in 1:N_test){\n",
    "        Y_synthetic[i] = normal_rng(e0 + (einf * e0 - e0) / (1.0 + (exp(logC) / X_test[i]) ^ h), sigma);\n",
    "    }\n",
    "}\"\"\"\n",
    "\n",
    "# THE PATH FOR GOOGLE COLAB:\n",
    "file_path = '/content/synba_mono.stan'\n",
    "\n",
    "with open(file_path, 'w') as file:\n",
    "    file.write(synba_mono)\n",
    "\n",
    "# Print the file path\n",
    "print(\"File saved:\", file_path)"
   ],
   "metadata": {
    "collapsed": false,
    "pycharm": {
     "name": "#%%\n"
    }
   }
  },
  {
   "cell_type": "markdown",
   "metadata": {
    "id": "HduEIV3z1SbF"
   },
   "source": [
    "### Compile and train the model"
   ]
  },
  {
   "cell_type": "code",
   "execution_count": 7,
   "metadata": {
    "pycharm": {
     "name": "#%%\n"
    }
   },
   "outputs": [
    {
     "name": "stdout",
     "output_type": "stream",
     "text": [
      "Time taken to compile the model: 0.13647794723510742 seconds\n"
     ]
    }
   ],
   "source": [
    "# Compile the model\n",
    "from cmdstanpy import CmdStanModel\n",
    "\n",
    "t = time.time()\n",
    "model = CmdStanModel(stan_file='synba_mono.stan')\n",
    "print('Time taken to compile the model: {} seconds'.format(time.time() - t))"
   ]
  },
  {
   "cell_type": "code",
   "execution_count": 12,
   "metadata": {
    "colab": {
     "base_uri": "https://localhost:8080/"
    },
    "id": "lHJne9qV16Kg",
    "outputId": "f6a5bef2-9fa3-4d76-abec-871de17fa1df"
   },
   "outputs": [
    {
     "name": "stderr",
     "output_type": "stream",
     "text": [
      "17:09:43 - cmdstanpy - INFO - CmdStan start processing\n",
      "17:09:43 - cmdstanpy - INFO - CmdStan done processing.\n",
      "17:09:43 - cmdstanpy - WARNING - Non-fatal error during sampling:\n",
      "Exception: normal_lpdf: Location parameter is nan, but must be finite! (in '/Users/haoting/Documents/GitHub/SynBa/synba_mono.stan', line 27, column 4 to column 81)\n",
      "Exception: normal_lpdf: Location parameter is nan, but must be finite! (in '/Users/haoting/Documents/GitHub/SynBa/synba_mono.stan', line 27, column 4 to column 81)\n",
      "Exception: normal_lpdf: Location parameter is nan, but must be finite! (in '/Users/haoting/Documents/GitHub/SynBa/synba_mono.stan', line 27, column 4 to column 81)\n",
      "Exception: normal_lpdf: Location parameter is nan, but must be finite! (in '/Users/haoting/Documents/GitHub/SynBa/synba_mono.stan', line 27, column 4 to column 81)\n",
      "Consider re-running with show_console=True if the above output is unclear!\n",
      "17:09:43 - cmdstanpy - WARNING - Some chains may have failed to converge.\n",
      "\tChain 1 had 5 divergent transitions (0.5%)\n",
      "\tChain 2 had 34 divergent transitions (3.4%)\n",
      "\tChain 3 had 6 divergent transitions (0.6%)\n",
      "\tChain 4 had 11 divergent transitions (1.1%)\n",
      "\tUse function \"diagnose()\" to see further information.\n"
     ]
    },
    {
     "data": {
      "text/plain": "chain 1 |          | 00:00 Status",
      "application/vnd.jupyter.widget-view+json": {
       "version_major": 2,
       "version_minor": 0,
       "model_id": "467740ca103845009d43b33c53ad4888"
      }
     },
     "metadata": {},
     "output_type": "display_data"
    },
    {
     "data": {
      "text/plain": "chain 2 |          | 00:00 Status",
      "application/vnd.jupyter.widget-view+json": {
       "version_major": 2,
       "version_minor": 0,
       "model_id": "d87155a3a2fd4f5894f710ad225c6029"
      }
     },
     "metadata": {},
     "output_type": "display_data"
    },
    {
     "data": {
      "text/plain": "chain 3 |          | 00:00 Status",
      "application/vnd.jupyter.widget-view+json": {
       "version_major": 2,
       "version_minor": 0,
       "model_id": "00f0347cc1d342e58259cdbd035267d2"
      }
     },
     "metadata": {},
     "output_type": "display_data"
    },
    {
     "data": {
      "text/plain": "chain 4 |          | 00:00 Status",
      "application/vnd.jupyter.widget-view+json": {
       "version_major": 2,
       "version_minor": 0,
       "model_id": "1543712443284373af6ccc3907e4ef9b"
      }
     },
     "metadata": {},
     "output_type": "display_data"
    },
    {
     "name": "stdout",
     "output_type": "stream",
     "text": [
      "                                                                                                                                                                                                                                                                                                                                \n",
      "Time taken to compile the model: 0.4871952533721924 seconds\n"
     ]
    }
   ],
   "source": [
    "# Fit the model and generate samples\n",
    "t = time.time()\n",
    "N = len(Y)\n",
    "# Add a tiny value to the zeros.\n",
    "zero_ind = np.where(X == 0)[0]\n",
    "X[zero_ind] = np.minimum(1e-8, 0.001 * np.min(X[np.where(X>0)[0]]))\n",
    "data = {'N': N, 'X': X, 'Y': Y, 'N_test': N, 'X_test': X,\n",
    "          'e0_mean': e0_mean, 'einf_beta_a': einf_beta_a, 'einf_beta_b': einf_beta_b,\n",
    "          'log_ic50_lb': np.log(ic50_lb), 'log_ic50_ub': np.log(ic50_ub), 'sigma_mu': sigma_mu}\n",
    "fit = model.sample(data=data)\n",
    "print('Time taken to compile the model: {} seconds'.format(time.time() - t))"
   ]
  },
  {
   "cell_type": "markdown",
   "metadata": {
    "id": "aLMRI8Go1UFU"
   },
   "source": [
    "### Output Analysis"
   ]
  },
  {
   "cell_type": "markdown",
   "metadata": {},
   "source": [
    "#### Summary statistics\n",
    "Note: The \"einf\" in the summary table is normalised, so its range is (0, 1) instead of (0, e0)."
   ]
  },
  {
   "cell_type": "code",
   "execution_count": 13,
   "metadata": {
    "pycharm": {
     "name": "#%%\n"
    }
   },
   "outputs": [
    {
     "data": {
      "text/plain": "                      Mean      MCSE    StdDev         5%         50%  \\\nlp__              0.383295  0.141433  2.485070  -4.410210    0.825934   \ne0              100.268000  0.031125  0.958620  98.788200  100.261000   \neinf              0.084037  0.006576  0.069780   0.000493    0.072772   \nlogC             -0.776930  0.018629  0.217296  -1.179130   -0.742537   \nh                 0.795031  0.006370  0.065772   0.708922    0.783351   \nsigma             1.078260  0.020038  0.505225   0.560632    0.940741   \nY_synthetic[1]  100.260000  0.036745  1.523540  97.913600  100.245000   \nY_synthetic[2]   95.986200  0.026417  1.364160  93.806100   96.002200   \nY_synthetic[3]   90.745700  0.029438  1.384130  88.541700   90.749200   \nY_synthetic[4]   79.106600  0.023482  1.412460  76.858700   79.091600   \nY_synthetic[5]   62.036500  0.041646  1.514790  59.662900   62.022800   \nY_synthetic[6]   40.858100  0.030519  1.662060  38.359200   40.818100   \n\n                       95%     N_Eff   N_Eff/s    R_hat  \nlp__              3.527930   308.731   467.066  1.01946  \ne0              101.781000   948.560  1435.040  1.01314  \neinf              0.213423   112.584   170.324  1.03664  \nlogC             -0.502893   136.054   205.830  1.03037  \nh                 0.913564   106.619   161.300  1.03745  \nsigma             2.052380   635.740   961.785  1.00828  \nY_synthetic[1]  102.658000  1719.100  2600.760  1.00939  \nY_synthetic[2]   98.095000  2666.570  4034.140  1.00102  \nY_synthetic[3]   92.913800  2210.690  3344.460  1.00407  \nY_synthetic[4]   81.342700  3618.210  5473.840  1.00086  \nY_synthetic[5]   64.400100  1322.970  2001.470  1.00318  \nY_synthetic[6]   43.495500  2965.940  4487.050  1.00186  ",
      "text/html": "<div>\n<style scoped>\n    .dataframe tbody tr th:only-of-type {\n        vertical-align: middle;\n    }\n\n    .dataframe tbody tr th {\n        vertical-align: top;\n    }\n\n    .dataframe thead th {\n        text-align: right;\n    }\n</style>\n<table border=\"1\" class=\"dataframe\">\n  <thead>\n    <tr style=\"text-align: right;\">\n      <th></th>\n      <th>Mean</th>\n      <th>MCSE</th>\n      <th>StdDev</th>\n      <th>5%</th>\n      <th>50%</th>\n      <th>95%</th>\n      <th>N_Eff</th>\n      <th>N_Eff/s</th>\n      <th>R_hat</th>\n    </tr>\n  </thead>\n  <tbody>\n    <tr>\n      <th>lp__</th>\n      <td>0.383295</td>\n      <td>0.141433</td>\n      <td>2.485070</td>\n      <td>-4.410210</td>\n      <td>0.825934</td>\n      <td>3.527930</td>\n      <td>308.731</td>\n      <td>467.066</td>\n      <td>1.01946</td>\n    </tr>\n    <tr>\n      <th>e0</th>\n      <td>100.268000</td>\n      <td>0.031125</td>\n      <td>0.958620</td>\n      <td>98.788200</td>\n      <td>100.261000</td>\n      <td>101.781000</td>\n      <td>948.560</td>\n      <td>1435.040</td>\n      <td>1.01314</td>\n    </tr>\n    <tr>\n      <th>einf</th>\n      <td>0.084037</td>\n      <td>0.006576</td>\n      <td>0.069780</td>\n      <td>0.000493</td>\n      <td>0.072772</td>\n      <td>0.213423</td>\n      <td>112.584</td>\n      <td>170.324</td>\n      <td>1.03664</td>\n    </tr>\n    <tr>\n      <th>logC</th>\n      <td>-0.776930</td>\n      <td>0.018629</td>\n      <td>0.217296</td>\n      <td>-1.179130</td>\n      <td>-0.742537</td>\n      <td>-0.502893</td>\n      <td>136.054</td>\n      <td>205.830</td>\n      <td>1.03037</td>\n    </tr>\n    <tr>\n      <th>h</th>\n      <td>0.795031</td>\n      <td>0.006370</td>\n      <td>0.065772</td>\n      <td>0.708922</td>\n      <td>0.783351</td>\n      <td>0.913564</td>\n      <td>106.619</td>\n      <td>161.300</td>\n      <td>1.03745</td>\n    </tr>\n    <tr>\n      <th>sigma</th>\n      <td>1.078260</td>\n      <td>0.020038</td>\n      <td>0.505225</td>\n      <td>0.560632</td>\n      <td>0.940741</td>\n      <td>2.052380</td>\n      <td>635.740</td>\n      <td>961.785</td>\n      <td>1.00828</td>\n    </tr>\n    <tr>\n      <th>Y_synthetic[1]</th>\n      <td>100.260000</td>\n      <td>0.036745</td>\n      <td>1.523540</td>\n      <td>97.913600</td>\n      <td>100.245000</td>\n      <td>102.658000</td>\n      <td>1719.100</td>\n      <td>2600.760</td>\n      <td>1.00939</td>\n    </tr>\n    <tr>\n      <th>Y_synthetic[2]</th>\n      <td>95.986200</td>\n      <td>0.026417</td>\n      <td>1.364160</td>\n      <td>93.806100</td>\n      <td>96.002200</td>\n      <td>98.095000</td>\n      <td>2666.570</td>\n      <td>4034.140</td>\n      <td>1.00102</td>\n    </tr>\n    <tr>\n      <th>Y_synthetic[3]</th>\n      <td>90.745700</td>\n      <td>0.029438</td>\n      <td>1.384130</td>\n      <td>88.541700</td>\n      <td>90.749200</td>\n      <td>92.913800</td>\n      <td>2210.690</td>\n      <td>3344.460</td>\n      <td>1.00407</td>\n    </tr>\n    <tr>\n      <th>Y_synthetic[4]</th>\n      <td>79.106600</td>\n      <td>0.023482</td>\n      <td>1.412460</td>\n      <td>76.858700</td>\n      <td>79.091600</td>\n      <td>81.342700</td>\n      <td>3618.210</td>\n      <td>5473.840</td>\n      <td>1.00086</td>\n    </tr>\n    <tr>\n      <th>Y_synthetic[5]</th>\n      <td>62.036500</td>\n      <td>0.041646</td>\n      <td>1.514790</td>\n      <td>59.662900</td>\n      <td>62.022800</td>\n      <td>64.400100</td>\n      <td>1322.970</td>\n      <td>2001.470</td>\n      <td>1.00318</td>\n    </tr>\n    <tr>\n      <th>Y_synthetic[6]</th>\n      <td>40.858100</td>\n      <td>0.030519</td>\n      <td>1.662060</td>\n      <td>38.359200</td>\n      <td>40.818100</td>\n      <td>43.495500</td>\n      <td>2965.940</td>\n      <td>4487.050</td>\n      <td>1.00186</td>\n    </tr>\n  </tbody>\n</table>\n</div>"
     },
     "execution_count": 13,
     "metadata": {},
     "output_type": "execute_result"
    }
   ],
   "source": [
    "fit.summary()"
   ]
  },
  {
   "cell_type": "markdown",
   "metadata": {
    "id": "LG92oAx26BVQ"
   },
   "source": [
    "#### Output visualisation\n",
    "Note: Tune the A and B for different sizes of the histograms for Emax and IC50."
   ]
  },
  {
   "cell_type": "code",
   "execution_count": 14,
   "metadata": {
    "colab": {
     "base_uri": "https://localhost:8080/",
     "height": 536
    },
    "id": "x68NeF0M2BHK",
    "outputId": "963ffd62-7bc9-47b2-95a5-a7d388effd0c"
   },
   "outputs": [
    {
     "name": "stdout",
     "output_type": "stream",
     "text": [
      "Red histogram: The posterior distribution for IC50.\n",
      "Green histogram: The posterior distribution for Emax.\n",
      "Light blue curves: Sample dose-response curves from the posterior.\n",
      "Red bell curves: The estimated noise level for the responses.\n"
     ]
    },
    {
     "data": {
      "text/plain": "<Figure size 640x480 with 4 Axes>",
      "image/png": "[encoded data removed]"
     },
     "metadata": {},
     "output_type": "display_data"
    }
   ],
   "source": [
    "# Extracting traces\n",
    "e0, einf, logC, h, sigma = fit.stan_variable('e0'), fit.stan_variable('einf'), fit.stan_variable('logC'), \\\n",
    "                           fit.stan_variable('h'), fit.stan_variable('sigma')\n",
    "\n",
    "A, B = 1.5, 0.2\n",
    "print(\"Red histogram: The posterior distribution for IC50.\")\n",
    "print(\"Green histogram: The posterior distribution for Emax.\")\n",
    "print(\"Light blue curves: Sample dose-response curves from the posterior.\")\n",
    "print(\"Red bell curves: The estimated noise level for the responses.\")\n",
    "\n",
    "# Plotting regression line\n",
    "log_x_min, log_x_max = int(np.floor(np.log(np.min(X)))), int(np.ceil(np.log(np.max(X)))) + 8\n",
    "log_x_plot = np.linspace(log_x_min, log_x_max, 100)\n",
    "yy_max = np.repeat(-e0_mean, len(Y))\n",
    "yy_min = np.repeat(e0_mean, len(Y))\n",
    "\n",
    "fig, ax1 = plt.subplots()\n",
    "# Plot the sampled regression lines\n",
    "for i in range(len(e0)):\n",
    "    yy = e0[i] + (einf[i] * e0[i] - e0[i]) / (1.0 + (np.exp(logC[i]) / np.exp(log_x_plot)) ** h[i])\n",
    "    ax1.plot(log_x_plot, yy, color='lightsteelblue', alpha=0.005)\n",
    "    yy_x = e0[i] + (einf[i] * e0[i] - e0[i]) / (1.0 + (np.exp(logC[i]) / X) ** h[i])\n",
    "    yy_max = np.maximum(yy_max, yy_x + sigma[i])\n",
    "    yy_min = np.minimum(yy_min, yy_x - sigma[i])\n",
    "for i in range(len(X)):\n",
    "    support = np.linspace(yy_min[i], yy_max[i], 100)\n",
    "    p_x = np.zeros(np.shape(support))\n",
    "    for j in range(len(e0)):\n",
    "        delta_support = support - (e0[j] + (einf[j] * e0[j] - e0[j]) / (1.0 + (np.exp(logC[j]) / X[i]) ** h[j]))\n",
    "        gaussian = np.exp((-delta_support ** 2.0) / (2 * sigma[j] ** 2.0))\n",
    "        gaussian *= -1\n",
    "        p_x += gaussian\n",
    "    p_x = p_x / np.max(np.abs(p_x)) * 0.5\n",
    "    ind = np.where(np.abs(p_x)>0.01)[0]\n",
    "    ax1.plot(p_x[ind] + np.log(X[i]), support[ind], c='red', linewidth=1)\n",
    "    ax1.plot(np.zeros_like(p_x[ind]) + np.log(X[i]), support[ind], c='red', linewidth=0.7)\n",
    "\n",
    "# Plot the original data\n",
    "ax1.scatter(np.log(X), Y, c='blue')\n",
    "ax1.set_xlabel('log(dosage)')\n",
    "ax1.set_ylabel('response')\n",
    "ax1.set_xlim(log_x_min, log_x_max)\n",
    "ax1.set_ylim(0, 1.2 * np.max(Y))\n",
    "\n",
    "# Plot data\n",
    "ax1.scatter(np.log(X), Y, c='blue')\n",
    "\n",
    "# Plot IC50 (with direct histogram)\n",
    "ax2 = ax1.twinx()\n",
    "ax2.axis('off')\n",
    "ax2.hist(logC, 30, density=True, color='r', alpha=0.5)\n",
    "ax2.set_ylim(0, A)\n",
    "\n",
    "# Plot Emax (with direct histogram)\n",
    "einf_rescaled = einf * e0\n",
    "ax3x = ax1.twinx()\n",
    "ax3 = ax3x.twiny()\n",
    "ax3.hist(einf_rescaled, 30, density=True, color='green', alpha=0.5, orientation=\"horizontal\")\n",
    "ax3.set_xlim(0, B)\n",
    "ax3.set_ylim(0, 1.2 * np.max(Y))\n",
    "ax3x.axis('off')\n",
    "ax3.axis('off')\n",
    "\n",
    "plt.show()"
   ]
  }
 ],
 "metadata": {
  "colab": {
   "provenance": []
  },
  "kernelspec": {
   "name": "pycharm-9854ee7b",
   "language": "python",
   "display_name": "PyCharm (SynBa)"
  },
  "language_info": {
   "codemirror_mode": {
    "name": "ipython",
    "version": 2
   },
   "file_extension": ".py",
   "mimetype": "text/x-python",
   "name": "python",
   "nbconvert_exporter": "python",
   "pygments_lexer": "ipython2",
   "version": "2.7.15"
  }
 },
 "nbformat": 4,
 "nbformat_minor": 1
}